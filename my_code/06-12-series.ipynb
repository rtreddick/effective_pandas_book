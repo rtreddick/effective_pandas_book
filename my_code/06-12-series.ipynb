{
 "cells": [
  {
   "cell_type": "markdown",
   "metadata": {},
   "source": [
    "# Chapter 6 - Series Introduction"
   ]
  },
  {
   "cell_type": "code",
   "execution_count": 168,
   "metadata": {},
   "outputs": [
    {
     "data": {
      "text/plain": [
       "0    145\n",
       "1    142\n",
       "2     38\n",
       "3     13\n",
       "Name: counts, dtype: int64"
      ]
     },
     "execution_count": 168,
     "metadata": {},
     "output_type": "execute_result"
    }
   ],
   "source": [
    "import pandas as pd\n",
    "\n",
    "songs2 = pd.Series([145, 142, 38, 13], name='counts')\n",
    "songs2"
   ]
  },
  {
   "cell_type": "code",
   "execution_count": 169,
   "metadata": {},
   "outputs": [
    {
     "data": {
      "text/plain": [
       "Paul      145\n",
       "John      142\n",
       "George     38\n",
       "Ringo      13\n",
       "Name: counts, dtype: int64[pyarrow]"
      ]
     },
     "execution_count": 169,
     "metadata": {},
     "output_type": "execute_result"
    }
   ],
   "source": [
    "# use pyarrow backend\n",
    "songs3 = pd.Series([145, 142, 38, 13],\n",
    "                   name='counts',\n",
    "                   index=['Paul', 'John', 'George', 'Ringo'],\n",
    "                   dtype='int64[pyarrow]')\n",
    "songs3"
   ]
  },
  {
   "cell_type": "code",
   "execution_count": 170,
   "metadata": {},
   "outputs": [
    {
     "data": {
      "text/plain": [
       "RangeIndex(start=0, stop=4, step=1)"
      ]
     },
     "execution_count": 170,
     "metadata": {},
     "output_type": "execute_result"
    }
   ],
   "source": [
    "songs2.index"
   ]
  },
  {
   "cell_type": "code",
   "execution_count": 171,
   "metadata": {},
   "outputs": [
    {
     "data": {
      "text/plain": [
       "Index(['Paul', 'John', 'George', 'Ringo'], dtype='object')"
      ]
     },
     "execution_count": 171,
     "metadata": {},
     "output_type": "execute_result"
    }
   ],
   "source": [
    "songs3.index"
   ]
  },
  {
   "cell_type": "code",
   "execution_count": 172,
   "metadata": {},
   "outputs": [
    {
     "data": {
      "text/plain": [
       "Ono        2.0\n",
       "Clapton    NaN\n",
       "dtype: float64"
      ]
     },
     "execution_count": 172,
     "metadata": {},
     "output_type": "execute_result"
    }
   ],
   "source": [
    "import numpy as np\n",
    "\n",
    "nan_series = pd.Series([2, np.nan], index = ['Ono', 'Clapton'])\n",
    "nan_series"
   ]
  },
  {
   "cell_type": "code",
   "execution_count": 173,
   "metadata": {},
   "outputs": [
    {
     "data": {
      "text/plain": [
       "Ono           2\n",
       "Clapton    <NA>\n",
       "dtype: int64[pyarrow]"
      ]
     },
     "execution_count": 173,
     "metadata": {},
     "output_type": "execute_result"
    }
   ],
   "source": [
    "nan_series2 = pd.Series([2, np.nan], index = ['Ono', 'Clapton'], dtype='int64[pyarrow]')\n",
    "nan_series2"
   ]
  },
  {
   "cell_type": "code",
   "execution_count": 174,
   "metadata": {},
   "outputs": [
    {
     "data": {
      "text/plain": [
       "1"
      ]
     },
     "execution_count": 174,
     "metadata": {},
     "output_type": "execute_result"
    }
   ],
   "source": [
    "nan_series2.count()"
   ]
  },
  {
   "cell_type": "code",
   "execution_count": 175,
   "metadata": {},
   "outputs": [
    {
     "data": {
      "text/plain": [
       "2"
      ]
     },
     "execution_count": 175,
     "metadata": {},
     "output_type": "execute_result"
    }
   ],
   "source": [
    "nan_series2.size"
   ]
  },
  {
   "cell_type": "code",
   "execution_count": 176,
   "metadata": {},
   "outputs": [
    {
     "data": {
      "text/plain": [
       "142"
      ]
     },
     "execution_count": 176,
     "metadata": {},
     "output_type": "execute_result"
    }
   ],
   "source": [
    "numpy_ser = np.array([145, 142, 38, 13])\n",
    "songs3.iloc[1]"
   ]
  },
  {
   "cell_type": "code",
   "execution_count": 177,
   "metadata": {},
   "outputs": [
    {
     "data": {
      "text/plain": [
       "142"
      ]
     },
     "execution_count": 177,
     "metadata": {},
     "output_type": "execute_result"
    }
   ],
   "source": [
    "numpy_ser[1]"
   ]
  },
  {
   "cell_type": "code",
   "execution_count": 178,
   "metadata": {},
   "outputs": [
    {
     "data": {
      "text/plain": [
       "84.5"
      ]
     },
     "execution_count": 178,
     "metadata": {},
     "output_type": "execute_result"
    }
   ],
   "source": [
    "songs3.mean()"
   ]
  },
  {
   "cell_type": "code",
   "execution_count": 179,
   "metadata": {},
   "outputs": [
    {
     "data": {
      "text/plain": [
       "84.5"
      ]
     },
     "execution_count": 179,
     "metadata": {},
     "output_type": "execute_result"
    }
   ],
   "source": [
    "numpy_ser.mean()"
   ]
  },
  {
   "cell_type": "code",
   "execution_count": 180,
   "metadata": {},
   "outputs": [
    {
     "data": {
      "text/plain": [
       "112"
      ]
     },
     "execution_count": 180,
     "metadata": {},
     "output_type": "execute_result"
    }
   ],
   "source": [
    "len(set(dir(numpy_ser)) & set(dir(songs3)))"
   ]
  },
  {
   "cell_type": "code",
   "execution_count": 181,
   "metadata": {},
   "outputs": [
    {
     "data": {
      "text/plain": [
       "Paul       True\n",
       "John       True\n",
       "George    False\n",
       "Ringo     False\n",
       "Name: counts, dtype: bool[pyarrow]"
      ]
     },
     "execution_count": 181,
     "metadata": {},
     "output_type": "execute_result"
    }
   ],
   "source": [
    "mask = songs3 > songs3.median()\n",
    "mask"
   ]
  },
  {
   "cell_type": "code",
   "execution_count": 182,
   "metadata": {},
   "outputs": [
    {
     "data": {
      "text/plain": [
       "Paul    145\n",
       "John    142\n",
       "Name: counts, dtype: int64[pyarrow]"
      ]
     },
     "execution_count": 182,
     "metadata": {},
     "output_type": "execute_result"
    }
   ],
   "source": [
    "songs3[mask]"
   ]
  },
  {
   "cell_type": "markdown",
   "metadata": {},
   "source": [
    "# Chapter 7 - Series Deep Dive"
   ]
  },
  {
   "cell_type": "code",
   "execution_count": 183,
   "metadata": {},
   "outputs": [],
   "source": [
    "import pandas as pd\n",
    "\n",
    "url = 'https://github.com/mattharrison/datasets/raw/master/data/vehicles.csv.zip'\n",
    "df = pd.read_csv(url, dtype_backend='pyarrow', engine='pyarrow')"
   ]
  },
  {
   "cell_type": "code",
   "execution_count": 184,
   "metadata": {},
   "outputs": [],
   "source": [
    "city_mpg = df.city08\n",
    "highway_mpg = df.highway08"
   ]
  },
  {
   "cell_type": "code",
   "execution_count": 185,
   "metadata": {},
   "outputs": [
    {
     "data": {
      "text/plain": [
       "0        22.0\n",
       "1        11.5\n",
       "2        28.0\n",
       "3        11.0\n",
       "4        20.0\n",
       "         ... \n",
       "41139    22.5\n",
       "41140    24.0\n",
       "41141    21.0\n",
       "41142    21.0\n",
       "41143    18.5\n",
       "Length: 41144, dtype: double[pyarrow]"
      ]
     },
     "execution_count": 185,
     "metadata": {},
     "output_type": "execute_result"
    }
   ],
   "source": [
    "(city_mpg + highway_mpg) / 2"
   ]
  },
  {
   "cell_type": "code",
   "execution_count": 186,
   "metadata": {},
   "outputs": [
    {
     "data": {
      "text/plain": [
       "0.1    13.0\n",
       "0.5    17.0\n",
       "0.9    24.0\n",
       "Name: city08, dtype: double[pyarrow]"
      ]
     },
     "execution_count": 186,
     "metadata": {},
     "output_type": "execute_result"
    }
   ],
   "source": [
    "# city_mpg.mean()\n",
    "# city_mpg.is_unique\n",
    "# city_mpg.is_monotonic_increasing\n",
    "city_mpg.quantile([.1, .5, .9])"
   ]
  },
  {
   "cell_type": "code",
   "execution_count": 187,
   "metadata": {},
   "outputs": [
    {
     "data": {
      "text/plain": [
       "10272"
      ]
     },
     "execution_count": 187,
     "metadata": {},
     "output_type": "execute_result"
    }
   ],
   "source": [
    "city_mpg.gt(20).sum()"
   ]
  },
  {
   "cell_type": "code",
   "execution_count": 188,
   "metadata": {},
   "outputs": [
    {
     "data": {
      "text/plain": [
       "24.965973167412017"
      ]
     },
     "execution_count": 188,
     "metadata": {},
     "output_type": "execute_result"
    }
   ],
   "source": [
    "city_mpg.gt(20).astype('bool').mul(100).mean() # series of type bool[pyarrow] doesn't have .mul operator"
   ]
  },
  {
   "cell_type": "code",
   "execution_count": 189,
   "metadata": {},
   "outputs": [
    {
     "data": {
      "text/plain": [
       "0        19\n",
       "1         9\n",
       "2        23\n",
       "3        10\n",
       "4        17\n",
       "         ..\n",
       "41139    19\n",
       "41140    20\n",
       "41141    18\n",
       "41142    18\n",
       "41143    16\n",
       "Name: city08, Length: 41144, dtype: int16[pyarrow]"
      ]
     },
     "execution_count": 189,
     "metadata": {},
     "output_type": "execute_result"
    }
   ],
   "source": [
    "city_mpg.astype('int16[pyarrow]')\n",
    "# city_mpg.astype('int8[pyarrow]')"
   ]
  },
  {
   "cell_type": "markdown",
   "metadata": {},
   "source": [
    "# Chapter 11 - Manipulation Methods"
   ]
  },
  {
   "cell_type": "code",
   "execution_count": 190,
   "metadata": {},
   "outputs": [
    {
     "data": {
      "text/plain": [
       "0        Alfa Romeo\n",
       "1           Ferrari\n",
       "2             Dodge\n",
       "3             Dodge\n",
       "4            Subaru\n",
       "            ...    \n",
       "41139        Subaru\n",
       "41140        Subaru\n",
       "41141        Subaru\n",
       "41142        Subaru\n",
       "41143        Subaru\n",
       "Name: make, Length: 41144, dtype: string[pyarrow]"
      ]
     },
     "execution_count": 190,
     "metadata": {},
     "output_type": "execute_result"
    }
   ],
   "source": [
    "make = df.make\n",
    "make"
   ]
  },
  {
   "cell_type": "code",
   "execution_count": 191,
   "metadata": {},
   "outputs": [
    {
     "data": {
      "text/plain": [
       "make\n",
       "Chevrolet                           4003\n",
       "Ford                                3371\n",
       "Dodge                               2583\n",
       "GMC                                 2494\n",
       "Toyota                              2071\n",
       "                                    ... \n",
       "Grumman Allied Industries              1\n",
       "Environmental Rsch and Devp Corp       1\n",
       "General Motors                         1\n",
       "Goldacre                               1\n",
       "Isis Imports Ltd                       1\n",
       "Name: count, Length: 136, dtype: int64[pyarrow]"
      ]
     },
     "execution_count": 191,
     "metadata": {},
     "output_type": "execute_result"
    }
   ],
   "source": [
    "make.value_counts()"
   ]
  },
  {
   "cell_type": "code",
   "execution_count": 192,
   "metadata": {},
   "outputs": [
    {
     "data": {
      "text/plain": [
       "Index(['Chevrolet', 'Ford', 'Dodge', 'GMC', 'Toyota'], dtype='string[pyarrow]', name='make')"
      ]
     },
     "execution_count": 192,
     "metadata": {},
     "output_type": "execute_result"
    }
   ],
   "source": [
    "top5 = make.value_counts().index[:5]\n",
    "top5"
   ]
  },
  {
   "cell_type": "code",
   "execution_count": 193,
   "metadata": {},
   "outputs": [],
   "source": [
    "def generalize_top5(val):\n",
    "    if val in top5:\n",
    "        return val\n",
    "    else:\n",
    "        return 'Other'"
   ]
  },
  {
   "cell_type": "code",
   "execution_count": 194,
   "metadata": {},
   "outputs": [
    {
     "data": {
      "text/plain": [
       "0        Other\n",
       "1        Other\n",
       "2        Dodge\n",
       "3        Dodge\n",
       "4        Other\n",
       "         ...  \n",
       "41139    Other\n",
       "41140    Other\n",
       "41141    Other\n",
       "41142    Other\n",
       "41143    Other\n",
       "Name: make, Length: 41144, dtype: object"
      ]
     },
     "execution_count": 194,
     "metadata": {},
     "output_type": "execute_result"
    }
   ],
   "source": [
    "make.apply(generalize_top5)"
   ]
  },
  {
   "cell_type": "code",
   "execution_count": 195,
   "metadata": {},
   "outputs": [
    {
     "data": {
      "text/plain": [
       "0        Other\n",
       "1        Other\n",
       "2        Dodge\n",
       "3        Dodge\n",
       "4        Other\n",
       "         ...  \n",
       "41139    Other\n",
       "41140    Other\n",
       "41141    Other\n",
       "41142    Other\n",
       "41143    Other\n",
       "Name: make, Length: 41144, dtype: string[pyarrow]"
      ]
     },
     "execution_count": 195,
     "metadata": {},
     "output_type": "execute_result"
    }
   ],
   "source": [
    "make.where(make.isin(top5), 'Other')"
   ]
  },
  {
   "cell_type": "code",
   "execution_count": 196,
   "metadata": {},
   "outputs": [
    {
     "data": {
      "text/plain": [
       "0         <NA>\n",
       "1         <NA>\n",
       "2        Dodge\n",
       "3        Dodge\n",
       "4         <NA>\n",
       "         ...  \n",
       "41139     <NA>\n",
       "41140     <NA>\n",
       "41141     <NA>\n",
       "41142     <NA>\n",
       "41143     <NA>\n",
       "Name: make, Length: 41144, dtype: string[pyarrow]"
      ]
     },
     "execution_count": 196,
     "metadata": {},
     "output_type": "execute_result"
    }
   ],
   "source": [
    "make.where(make.isin(top5))"
   ]
  },
  {
   "cell_type": "code",
   "execution_count": 197,
   "metadata": {},
   "outputs": [
    {
     "data": {
      "text/plain": [
       "0        Other\n",
       "1        Other\n",
       "2        Dodge\n",
       "3        Dodge\n",
       "4        Other\n",
       "         ...  \n",
       "41139    Other\n",
       "41140    Other\n",
       "41141    Other\n",
       "41142    Other\n",
       "41143    Other\n",
       "Name: make, Length: 41144, dtype: string[pyarrow]"
      ]
     },
     "execution_count": 197,
     "metadata": {},
     "output_type": "execute_result"
    }
   ],
   "source": [
    "make.mask(~make.isin(top5), 'Other')"
   ]
  },
  {
   "cell_type": "code",
   "execution_count": 198,
   "metadata": {},
   "outputs": [
    {
     "name": "stdout",
     "output_type": "stream",
     "text": [
      "22.3 ms ± 164 µs per loop (mean ± std. dev. of 7 runs, 10 loops each)\n"
     ]
    }
   ],
   "source": [
    "%%timeit\n",
    "make.apply(generalize_top5)"
   ]
  },
  {
   "cell_type": "code",
   "execution_count": 199,
   "metadata": {},
   "outputs": [
    {
     "name": "stdout",
     "output_type": "stream",
     "text": [
      "850 µs ± 6.91 µs per loop (mean ± std. dev. of 7 runs, 1,000 loops each)\n"
     ]
    }
   ],
   "source": [
    "%%timeit\n",
    "make.where(make.isin(top5), 'Other')"
   ]
  },
  {
   "cell_type": "code",
   "execution_count": 200,
   "metadata": {},
   "outputs": [
    {
     "data": {
      "text/plain": [
       "0        False\n",
       "1        False\n",
       "2        False\n",
       "3        False\n",
       "4        False\n",
       "         ...  \n",
       "41139    False\n",
       "41140    False\n",
       "41141    False\n",
       "41142    False\n",
       "41143    False\n",
       "Name: cylinders, Length: 41144, dtype: bool"
      ]
     },
     "execution_count": 200,
     "metadata": {},
     "output_type": "execute_result"
    }
   ],
   "source": [
    "cyl = df.cylinders\n",
    "missing = cyl.isna()\n",
    "missing"
   ]
  },
  {
   "cell_type": "code",
   "execution_count": 201,
   "metadata": {},
   "outputs": [
    {
     "data": {
      "text/plain": [
       "7138     Nissan\n",
       "7139     Toyota\n",
       "8143     Toyota\n",
       "8144       Ford\n",
       "8146       Ford\n",
       "          ...  \n",
       "34563     Tesla\n",
       "34564     Tesla\n",
       "34565     Tesla\n",
       "34566     Tesla\n",
       "34567     Tesla\n",
       "Name: make, Length: 206, dtype: string[pyarrow]"
      ]
     },
     "execution_count": 201,
     "metadata": {},
     "output_type": "execute_result"
    }
   ],
   "source": [
    "make.loc[missing]\n",
    "make[missing]"
   ]
  },
  {
   "cell_type": "code",
   "execution_count": 202,
   "metadata": {},
   "outputs": [
    {
     "data": {
      "text/plain": [
       "0    32.0\n",
       "1    40.0\n",
       "2    <NA>\n",
       "3    42.0\n",
       "4    39.0\n",
       "5    32.0\n",
       "dtype: float[pyarrow]"
      ]
     },
     "execution_count": 202,
     "metadata": {},
     "output_type": "execute_result"
    }
   ],
   "source": [
    "temp = pd.Series([32, 40, None, 42, 39, 32], dtype='float[pyarrow]')\n",
    "temp"
   ]
  },
  {
   "cell_type": "code",
   "execution_count": 203,
   "metadata": {},
   "outputs": [
    {
     "data": {
      "text/plain": [
       "0    32.0\n",
       "1    40.0\n",
       "2    41.0\n",
       "3    42.0\n",
       "4    39.0\n",
       "5    32.0\n",
       "dtype: float[pyarrow]"
      ]
     },
     "execution_count": 203,
     "metadata": {},
     "output_type": "execute_result"
    }
   ],
   "source": [
    "temp.interpolate()"
   ]
  },
  {
   "cell_type": "markdown",
   "metadata": {},
   "source": [
    "# Chapter 12 - Indexing Operations"
   ]
  },
  {
   "cell_type": "code",
   "execution_count": 204,
   "metadata": {},
   "outputs": [
    {
     "data": {
      "text/plain": [
       "{0: 'Alfa Romeo',\n",
       " 1: 'Ferrari',\n",
       " 2: 'Dodge',\n",
       " 3: 'Dodge',\n",
       " 4: 'Subaru',\n",
       " 5: 'Subaru',\n",
       " 6: 'Subaru',\n",
       " 7: 'Toyota',\n",
       " 8: 'Toyota',\n",
       " 9: 'Toyota',\n",
       " 10: 'Toyota',\n",
       " 11: 'Volkswagen',\n",
       " 12: 'Volkswagen',\n",
       " 13: 'Volkswagen',\n",
       " 14: 'Dodge',\n",
       " 15: 'Volkswagen',\n",
       " 16: 'Volvo',\n",
       " 17: 'Volvo',\n",
       " 18: 'Audi',\n",
       " 19: 'Audi',\n",
       " 20: 'BMW',\n",
       " 21: 'BMW',\n",
       " 22: 'BMW',\n",
       " 23: 'Buick',\n",
       " 24: 'Buick',\n",
       " 25: 'Dodge',\n",
       " 26: 'Buick',\n",
       " 27: 'Buick',\n",
       " 28: 'Buick',\n",
       " 29: 'Buick',\n",
       " 30: 'Buick',\n",
       " 31: 'Cadillac',\n",
       " 32: 'Cadillac',\n",
       " 33: 'Cadillac',\n",
       " 34: 'Cadillac',\n",
       " 35: 'Chevrolet',\n",
       " 36: 'Dodge',\n",
       " 37: 'Chevrolet',\n",
       " 38: 'Chevrolet',\n",
       " 39: 'Chevrolet',\n",
       " 40: 'Chevrolet',\n",
       " 41: 'Chrysler',\n",
       " 42: 'CX Automotive',\n",
       " 43: 'CX Automotive',\n",
       " 44: 'Nissan',\n",
       " 45: 'Nissan',\n",
       " 46: 'Nissan',\n",
       " 47: 'Dodge',\n",
       " 48: 'Dodge',\n",
       " 49: 'Dodge',\n",
       " 50: 'Dodge',\n",
       " 51: 'Dodge',\n",
       " 52: 'Dodge',\n",
       " 53: 'Dodge',\n",
       " 54: 'Dodge',\n",
       " 55: 'Dodge',\n",
       " 56: 'Ford',\n",
       " 57: 'Ford',\n",
       " 58: 'Dodge',\n",
       " 59: 'Ford',\n",
       " 60: 'Ford',\n",
       " 61: 'Ford',\n",
       " 62: 'Ford',\n",
       " 63: 'Ford',\n",
       " 64: 'Hyundai',\n",
       " 65: 'Hyundai',\n",
       " 66: 'Hyundai',\n",
       " 67: 'Infiniti',\n",
       " 68: 'Infiniti',\n",
       " 69: 'Dodge',\n",
       " 70: 'Lexus',\n",
       " 71: 'Mercury',\n",
       " 72: 'Mercury',\n",
       " 73: 'Mercury',\n",
       " 74: 'Mercury',\n",
       " 75: 'Mazda',\n",
       " 76: 'Mazda',\n",
       " 77: 'Mazda',\n",
       " 78: 'Mazda',\n",
       " 79: 'Mazda',\n",
       " 80: 'Dodge',\n",
       " 81: 'Oldsmobile',\n",
       " 82: 'Oldsmobile',\n",
       " 83: 'Oldsmobile',\n",
       " 84: 'Oldsmobile',\n",
       " 85: 'Oldsmobile',\n",
       " 86: 'Oldsmobile',\n",
       " 87: 'Oldsmobile',\n",
       " 88: 'Oldsmobile',\n",
       " 89: 'Plymouth',\n",
       " 90: 'Plymouth',\n",
       " 91: 'Ford',\n",
       " 92: 'Plymouth',\n",
       " 93: 'Plymouth',\n",
       " 94: 'Plymouth',\n",
       " 95: 'Pontiac',\n",
       " 96: 'Pontiac',\n",
       " 97: 'Pontiac',\n",
       " 98: 'Pontiac',\n",
       " 99: 'Rolls-Royce',\n",
       " 100: 'Rolls-Royce',\n",
       " 101: 'Rolls-Royce',\n",
       " 102: 'Ford',\n",
       " 103: 'Toyota',\n",
       " 104: 'Toyota',\n",
       " 105: 'Toyota',\n",
       " 106: 'Toyota',\n",
       " 107: 'Volkswagen',\n",
       " 108: 'Volkswagen',\n",
       " 109: 'Volkswagen',\n",
       " 110: 'Volkswagen',\n",
       " 111: 'Volvo',\n",
       " 112: 'Volvo',\n",
       " 113: 'Dodge',\n",
       " 114: 'Ford',\n",
       " 115: 'Volvo',\n",
       " 116: 'Volvo',\n",
       " 117: 'Volvo',\n",
       " 118: 'Buick',\n",
       " 119: 'Buick',\n",
       " 120: 'Buick',\n",
       " 121: 'Buick',\n",
       " 122: 'Cadillac',\n",
       " 123: 'Cadillac',\n",
       " 124: 'Chevrolet',\n",
       " 125: 'Ford',\n",
       " 126: 'Chevrolet',\n",
       " 127: 'Chevrolet',\n",
       " 128: 'Chrysler',\n",
       " 129: 'Chrysler',\n",
       " 130: 'Chrysler',\n",
       " 131: 'Chrysler',\n",
       " 132: 'Dodge',\n",
       " 133: 'Dodge',\n",
       " 134: 'Eagle',\n",
       " 135: 'Eagle',\n",
       " 136: 'Ford',\n",
       " 137: 'Ford',\n",
       " 138: 'Lincoln',\n",
       " 139: 'Mercury',\n",
       " 140: 'Lincoln',\n",
       " 141: 'Mercedes-Benz',\n",
       " 142: 'Mercedes-Benz',\n",
       " 143: 'Mercedes-Benz',\n",
       " 144: 'Mercedes-Benz',\n",
       " 145: 'Oldsmobile',\n",
       " 146: 'Oldsmobile',\n",
       " 147: 'GMC',\n",
       " 148: 'Oldsmobile',\n",
       " 149: 'Pontiac',\n",
       " 150: 'Pontiac',\n",
       " 151: 'Rolls-Royce',\n",
       " 152: 'Saab',\n",
       " 153: 'Saab',\n",
       " 154: 'Saab',\n",
       " 155: 'Saab',\n",
       " 156: 'Audi',\n",
       " 157: 'BMW',\n",
       " 158: 'GMC',\n",
       " 159: 'Chevrolet',\n",
       " 160: 'Chevrolet',\n",
       " 161: 'CX Automotive',\n",
       " 162: 'Ford',\n",
       " 163: 'Ford',\n",
       " 164: 'Honda',\n",
       " 165: 'Honda',\n",
       " 166: 'Mercury',\n",
       " 167: 'Mercury',\n",
       " 168: 'Saturn',\n",
       " 169: 'GMC',\n",
       " 170: 'Saturn',\n",
       " 171: 'Saturn',\n",
       " 172: 'Saturn',\n",
       " 173: 'Subaru',\n",
       " 174: 'Subaru',\n",
       " 175: 'Subaru',\n",
       " 176: 'Subaru',\n",
       " 177: 'Subaru',\n",
       " 178: 'Subaru',\n",
       " 179: 'Subaru',\n",
       " 180: 'GMC',\n",
       " 181: 'Toyota',\n",
       " 182: 'Toyota',\n",
       " 183: 'Buick',\n",
       " 184: 'Buick',\n",
       " 185: 'Buick',\n",
       " 186: 'Eagle',\n",
       " 187: 'Eagle',\n",
       " 188: 'Eagle',\n",
       " 189: 'Eagle',\n",
       " 190: 'Eagle',\n",
       " 191: 'GMC',\n",
       " 192: 'Eagle',\n",
       " 193: 'Eagle',\n",
       " 194: 'Eagle',\n",
       " 195: 'Ford',\n",
       " 196: 'Ford',\n",
       " 197: 'Mercury',\n",
       " 198: 'Mercury',\n",
       " 199: 'Mitsubishi',\n",
       " 200: 'Mitsubishi',\n",
       " 201: 'Mitsubishi',\n",
       " 202: 'GMC',\n",
       " 203: 'Mitsubishi',\n",
       " 204: 'Mitsubishi',\n",
       " 205: 'Mitsubishi',\n",
       " 206: 'Mitsubishi',\n",
       " 207: 'Mitsubishi',\n",
       " 208: 'Mitsubishi',\n",
       " 209: 'Mitsubishi',\n",
       " 210: 'Mitsubishi',\n",
       " 211: 'Mitsubishi',\n",
       " 212: 'Oldsmobile',\n",
       " 213: 'GMC',\n",
       " 214: 'Oldsmobile',\n",
       " 215: 'Oldsmobile',\n",
       " 216: 'Mitsubishi',\n",
       " 217: 'Plymouth',\n",
       " 218: 'Plymouth',\n",
       " 219: 'Plymouth',\n",
       " 220: 'Plymouth',\n",
       " 221: 'Plymouth',\n",
       " 222: 'Plymouth',\n",
       " 223: 'Plymouth',\n",
       " 224: 'Dodge',\n",
       " 225: 'GMC',\n",
       " 226: 'Plymouth',\n",
       " 227: 'Toyota',\n",
       " 228: 'Toyota',\n",
       " 229: 'Volkswagen',\n",
       " 230: 'Volkswagen',\n",
       " 231: 'Volkswagen',\n",
       " 232: 'Volkswagen',\n",
       " 233: 'Volvo',\n",
       " 234: 'Volvo',\n",
       " 235: 'Volvo',\n",
       " 236: 'GMC',\n",
       " 237: 'Volvo',\n",
       " 238: 'Volvo',\n",
       " 239: 'Buick',\n",
       " 240: 'Chevrolet',\n",
       " 241: 'Chevrolet',\n",
       " 242: 'Chevrolet',\n",
       " 243: 'Chevrolet',\n",
       " 244: 'Chevrolet',\n",
       " 245: 'Chevrolet',\n",
       " 246: 'Chevrolet',\n",
       " 247: 'GMC',\n",
       " 248: 'Nissan',\n",
       " 249: 'Nissan',\n",
       " 250: 'Nissan',\n",
       " 251: 'Dodge',\n",
       " 252: 'Dodge',\n",
       " 253: 'GMC',\n",
       " 254: 'GMC',\n",
       " 255: 'GMC',\n",
       " 256: 'GMC',\n",
       " 257: 'GMC',\n",
       " 258: 'GMC',\n",
       " 259: 'GMC',\n",
       " 260: 'Isuzu',\n",
       " 261: 'Isuzu',\n",
       " 262: 'Isuzu',\n",
       " 263: 'Mitsubishi',\n",
       " 264: 'Mitsubishi',\n",
       " 265: 'Chevrolet',\n",
       " 266: 'Chevrolet',\n",
       " 267: 'Chevrolet',\n",
       " 268: 'Chevrolet',\n",
       " 269: 'GMC',\n",
       " 270: 'Chevrolet',\n",
       " 271: 'Chevrolet',\n",
       " 272: 'Chevrolet',\n",
       " 273: 'Chevrolet',\n",
       " 274: 'Chevrolet',\n",
       " 275: 'Chevrolet',\n",
       " 276: 'Chevrolet',\n",
       " 277: 'Chevrolet',\n",
       " 278: 'Chevrolet',\n",
       " 279: 'Chevrolet',\n",
       " 280: 'GMC',\n",
       " 281: 'Chevrolet',\n",
       " 282: 'Chevrolet',\n",
       " 283: 'Chevrolet',\n",
       " 284: 'Chevrolet',\n",
       " 285: 'Dodge',\n",
       " 286: 'Dodge',\n",
       " 287: 'Dodge',\n",
       " 288: 'Dodge',\n",
       " 289: 'Dodge',\n",
       " 290: 'Dodge',\n",
       " 291: 'GMC',\n",
       " 292: 'Dodge',\n",
       " 293: 'Dodge',\n",
       " 294: 'Dodge',\n",
       " 295: 'Dodge',\n",
       " 296: 'Dodge',\n",
       " 297: 'Dodge',\n",
       " 298: 'Dodge',\n",
       " 299: 'Dodge',\n",
       " 300: 'Dodge',\n",
       " 301: 'Dodge',\n",
       " 302: 'GMC',\n",
       " 303: 'Dodge',\n",
       " 304: 'Jeep',\n",
       " 305: 'Jeep',\n",
       " 306: 'Jeep',\n",
       " 307: 'Jeep',\n",
       " 308: 'Ford',\n",
       " 309: 'Ford',\n",
       " 310: 'Ford',\n",
       " 311: 'Ford',\n",
       " 312: 'Ford',\n",
       " 313: 'Toyota',\n",
       " 314: 'Ford',\n",
       " 315: 'Ford',\n",
       " 316: 'Ford',\n",
       " 317: 'Ford',\n",
       " 318: 'Ford',\n",
       " 319: 'Ford',\n",
       " 320: 'Ford',\n",
       " 321: 'Ford',\n",
       " 322: 'Ford',\n",
       " 323: 'Ford',\n",
       " 324: 'Toyota',\n",
       " 325: 'Ford',\n",
       " 326: 'Ford',\n",
       " 327: 'Ford',\n",
       " 328: 'Ford',\n",
       " 329: 'Ford',\n",
       " 330: 'Ford',\n",
       " 331: 'GMC',\n",
       " 332: 'GMC',\n",
       " 333: 'GMC',\n",
       " 334: 'GMC',\n",
       " 335: 'Dodge',\n",
       " 336: 'Volkswagen',\n",
       " 337: 'GMC',\n",
       " 338: 'GMC',\n",
       " 339: 'GMC',\n",
       " 340: 'GMC',\n",
       " 341: 'GMC',\n",
       " 342: 'GMC',\n",
       " 343: 'GMC',\n",
       " 344: 'GMC',\n",
       " 345: 'GMC',\n",
       " 346: 'GMC',\n",
       " 347: 'Volkswagen',\n",
       " 348: 'GMC',\n",
       " 349: 'GMC',\n",
       " 350: 'GMC',\n",
       " 351: 'Mazda',\n",
       " 352: 'Mazda',\n",
       " 353: 'Mazda',\n",
       " 354: 'Mazda',\n",
       " 355: 'Mazda',\n",
       " 356: 'Mazda',\n",
       " 357: 'Toyota',\n",
       " 358: 'AM General',\n",
       " 359: 'Toyota',\n",
       " 360: 'Toyota',\n",
       " 361: 'Toyota',\n",
       " 362: 'Toyota',\n",
       " 363: 'Chevrolet',\n",
       " 364: 'Chevrolet',\n",
       " 365: 'Chevrolet',\n",
       " 366: 'Chevrolet',\n",
       " 367: 'Chevrolet',\n",
       " 368: 'Chevrolet',\n",
       " 369: 'AM General',\n",
       " 370: 'Chevrolet',\n",
       " 371: 'Chevrolet',\n",
       " 372: 'Chevrolet',\n",
       " 373: 'Chevrolet',\n",
       " 374: 'Chevrolet',\n",
       " 375: 'Chevrolet',\n",
       " 376: 'Chevrolet',\n",
       " 377: 'Chevrolet',\n",
       " 378: 'Chevrolet',\n",
       " 379: 'Chevrolet',\n",
       " 380: 'Chevrolet',\n",
       " 381: 'Chevrolet',\n",
       " 382: 'Chevrolet',\n",
       " 383: 'Chevrolet',\n",
       " 384: 'Chevrolet',\n",
       " 385: 'Nissan',\n",
       " 386: 'Nissan',\n",
       " 387: 'Nissan',\n",
       " 388: 'Dodge',\n",
       " 389: 'Dodge',\n",
       " 390: 'Dodge',\n",
       " 391: 'Chevrolet',\n",
       " 392: 'Dodge',\n",
       " 393: 'Dodge',\n",
       " 394: 'Dodge',\n",
       " 395: 'Dodge',\n",
       " 396: 'Dodge',\n",
       " 397: 'Dodge',\n",
       " 398: 'Dodge',\n",
       " 399: 'Dodge',\n",
       " 400: 'Dodge',\n",
       " 401: 'Dodge',\n",
       " 402: 'Chevrolet',\n",
       " 403: 'Dodge',\n",
       " 404: 'Dodge',\n",
       " 405: 'Jeep',\n",
       " 406: 'Jeep',\n",
       " 407: 'Jeep',\n",
       " 408: 'Jeep',\n",
       " 409: 'Ford',\n",
       " 410: 'Ford',\n",
       " 411: 'Ford',\n",
       " 412: 'Ford',\n",
       " 413: 'Chevrolet',\n",
       " 414: 'Ford',\n",
       " 415: 'Ford',\n",
       " 416: 'Ford',\n",
       " 417: 'Ford',\n",
       " 418: 'Ford',\n",
       " 419: 'Ford',\n",
       " 420: 'Ford',\n",
       " 421: 'Ford',\n",
       " 422: 'Ford',\n",
       " 423: 'GMC',\n",
       " 424: 'Chevrolet',\n",
       " 425: 'GMC',\n",
       " 426: 'GMC',\n",
       " 427: 'GMC',\n",
       " 428: 'GMC',\n",
       " 429: 'GMC',\n",
       " 430: 'GMC',\n",
       " 431: 'GMC',\n",
       " 432: 'GMC',\n",
       " 433: 'GMC',\n",
       " 434: 'GMC',\n",
       " 435: 'Chevrolet',\n",
       " 436: 'GMC',\n",
       " 437: 'GMC',\n",
       " 438: 'GMC',\n",
       " 439: 'GMC',\n",
       " 440: 'GMC',\n",
       " 441: 'GMC',\n",
       " 442: 'GMC',\n",
       " 443: 'GMC',\n",
       " 444: 'GMC',\n",
       " 445: 'GMC',\n",
       " 446: 'Dodge',\n",
       " 447: 'Chevrolet',\n",
       " 448: 'Isuzu',\n",
       " 449: 'Isuzu',\n",
       " 450: 'Mitsubishi',\n",
       " 451: 'Mitsubishi',\n",
       " 452: 'Mitsubishi',\n",
       " 453: 'Mazda',\n",
       " 454: 'Mazda',\n",
       " 455: 'Toyota',\n",
       " 456: 'Toyota',\n",
       " 457: 'Toyota',\n",
       " 458: 'Chevrolet',\n",
       " 459: 'Toyota',\n",
       " 460: 'Toyota',\n",
       " 461: 'Chevrolet',\n",
       " 462: 'Chevrolet',\n",
       " 463: 'Chevrolet',\n",
       " 464: 'Chevrolet',\n",
       " 465: 'Chevrolet',\n",
       " 466: 'Chevrolet',\n",
       " 467: 'Chevrolet',\n",
       " 468: 'Chevrolet',\n",
       " 469: 'Chevrolet',\n",
       " 470: 'Dodge',\n",
       " 471: 'Dodge',\n",
       " 472: 'Dodge',\n",
       " 473: 'Dodge',\n",
       " 474: 'Dodge',\n",
       " 475: 'Dodge',\n",
       " 476: 'Dodge',\n",
       " 477: 'Dodge',\n",
       " 478: 'Dodge',\n",
       " 479: 'Ford',\n",
       " 480: 'Dodge',\n",
       " 481: 'Ford',\n",
       " 482: 'Ford',\n",
       " 483: 'Ford',\n",
       " 484: 'Ford',\n",
       " 485: 'Ford',\n",
       " 486: 'Ford',\n",
       " 487: 'Ford',\n",
       " 488: 'Ford',\n",
       " 489: 'Ford',\n",
       " 490: 'Ford',\n",
       " 491: 'Dodge',\n",
       " 492: 'Ford',\n",
       " 493: 'GMC',\n",
       " 494: 'GMC',\n",
       " 495: 'GMC',\n",
       " 496: 'GMC',\n",
       " 497: 'GMC',\n",
       " 498: 'GMC',\n",
       " 499: 'GMC',\n",
       " 500: 'GMC',\n",
       " 501: 'Chevrolet',\n",
       " 502: 'Dodge',\n",
       " 503: 'Chevrolet',\n",
       " 504: 'Chevrolet',\n",
       " 505: 'Chevrolet',\n",
       " 506: 'Chevrolet',\n",
       " 507: 'Chevrolet',\n",
       " 508: 'Chevrolet',\n",
       " 509: 'Dodge',\n",
       " 510: 'Dodge',\n",
       " 511: 'Dodge',\n",
       " 512: 'Dodge',\n",
       " 513: 'Dodge',\n",
       " 514: 'Dodge',\n",
       " 515: 'Dodge',\n",
       " 516: 'Dodge',\n",
       " 517: 'Dodge',\n",
       " 518: 'Ford',\n",
       " 519: 'Ford',\n",
       " 520: 'Ford',\n",
       " 521: 'Ford',\n",
       " 522: 'Ford',\n",
       " 523: 'Ford',\n",
       " 524: 'Dodge',\n",
       " 525: 'Ford',\n",
       " 526: 'Ford',\n",
       " 527: 'GMC',\n",
       " 528: 'GMC',\n",
       " 529: 'GMC',\n",
       " 530: 'GMC',\n",
       " 531: 'GMC',\n",
       " 532: 'GMC',\n",
       " 533: 'GMC',\n",
       " 534: 'Toyota',\n",
       " 535: 'Dodge',\n",
       " 536: 'Toyota',\n",
       " 537: 'Toyota',\n",
       " 538: 'Volkswagen',\n",
       " 539: 'Volkswagen',\n",
       " 540: 'Chevrolet',\n",
       " 541: 'Chevrolet',\n",
       " 542: 'Chevrolet',\n",
       " 543: 'Chevrolet',\n",
       " 544: 'Chevrolet',\n",
       " 545: 'Nissan',\n",
       " 546: 'Dodge',\n",
       " 547: 'Nissan',\n",
       " 548: 'Nissan',\n",
       " 549: 'Chrysler',\n",
       " 550: 'Dodge',\n",
       " 551: 'Dodge',\n",
       " 552: 'Dodge',\n",
       " 553: 'Dodge',\n",
       " 554: 'Dodge',\n",
       " 555: 'Dodge',\n",
       " 556: 'Dodge',\n",
       " 557: 'Dodge',\n",
       " 558: 'Dodge',\n",
       " 559: 'Dodge',\n",
       " 560: 'Dodge',\n",
       " 561: 'Dodge',\n",
       " 562: 'Jeep',\n",
       " 563: 'Jeep',\n",
       " 564: 'Jeep',\n",
       " 565: 'Ford',\n",
       " 566: 'Ford',\n",
       " 567: 'Mercury',\n",
       " 568: 'Mercury',\n",
       " 569: 'Dodge',\n",
       " 570: 'Geo',\n",
       " 571: 'Geo',\n",
       " 572: 'GMC',\n",
       " 573: 'GMC',\n",
       " 574: 'GMC',\n",
       " 575: 'Isuzu',\n",
       " 576: 'Isuzu',\n",
       " 577: 'Isuzu',\n",
       " 578: 'Isuzu',\n",
       " 579: 'Mazda',\n",
       " 580: 'Dodge',\n",
       " 581: 'Mazda',\n",
       " 582: 'Pontiac',\n",
       " 583: 'Pontiac',\n",
       " 584: 'Plymouth',\n",
       " 585: 'Plymouth',\n",
       " 586: 'Plymouth',\n",
       " 587: 'Plymouth',\n",
       " 588: 'Suzuki',\n",
       " 589: 'Suzuki',\n",
       " 590: 'Suzuki',\n",
       " 591: 'Dodge',\n",
       " 592: 'Suzuki',\n",
       " 593: 'Suzuki',\n",
       " 594: 'Oldsmobile',\n",
       " 595: 'Oldsmobile',\n",
       " 596: 'Toyota',\n",
       " 597: 'Chevrolet',\n",
       " 598: 'Chevrolet',\n",
       " 599: 'Chevrolet',\n",
       " 600: 'Chevrolet',\n",
       " 601: 'Chevrolet',\n",
       " 602: 'E. P. Dutton, Inc.',\n",
       " 603: 'Nissan',\n",
       " 604: 'Nissan',\n",
       " 605: 'Chrysler',\n",
       " 606: 'Dodge',\n",
       " 607: 'Dodge',\n",
       " 608: 'Dodge',\n",
       " 609: 'Jeep',\n",
       " 610: 'Jeep',\n",
       " 611: 'Jeep',\n",
       " 612: 'Jeep',\n",
       " 613: 'GMC',\n",
       " 614: 'Jeep',\n",
       " 615: 'Jeep',\n",
       " 616: 'Jeep',\n",
       " 617: 'Jeep',\n",
       " 618: 'Jeep',\n",
       " 619: 'Jeep',\n",
       " 620: 'Jeep',\n",
       " 621: 'Ford',\n",
       " 622: 'Ford',\n",
       " 623: 'Ford',\n",
       " 624: 'GMC',\n",
       " 625: 'Ford',\n",
       " 626: 'Ford',\n",
       " 627: 'Geo',\n",
       " 628: 'Geo',\n",
       " 629: 'Geo',\n",
       " 630: 'Geo',\n",
       " 631: 'GMC',\n",
       " 632: 'GMC',\n",
       " 633: 'GMC',\n",
       " 634: 'GMC',\n",
       " 635: 'GMC',\n",
       " 636: 'GMC',\n",
       " 637: 'Isuzu',\n",
       " 638: 'Isuzu',\n",
       " 639: 'Isuzu',\n",
       " 640: 'Isuzu',\n",
       " 641: 'Isuzu',\n",
       " 642: 'Land Rover',\n",
       " 643: 'Land Rover',\n",
       " 644: 'Land Rover',\n",
       " 645: 'Mitsubishi',\n",
       " 646: 'GMC',\n",
       " 647: 'Mitsubishi',\n",
       " 648: 'Mazda',\n",
       " 649: 'Mazda',\n",
       " 650: 'Mazda',\n",
       " 651: 'Mazda',\n",
       " 652: 'Mazda',\n",
       " 653: 'PAS, Inc',\n",
       " 654: 'Plymouth',\n",
       " 655: 'Subaru',\n",
       " 656: 'Subaru',\n",
       " 657: 'GMC',\n",
       " 658: 'Subaru',\n",
       " 659: 'Subaru',\n",
       " 660: 'Suzuki',\n",
       " 661: 'Suzuki',\n",
       " 662: 'Suzuki',\n",
       " 663: 'Suzuki',\n",
       " 664: 'Suzuki',\n",
       " 665: 'Suzuki',\n",
       " 666: 'Suzuki',\n",
       " 667: 'Suzuki',\n",
       " 668: 'Dodge',\n",
       " 669: 'GMC',\n",
       " 670: 'Suzuki',\n",
       " 671: 'Oldsmobile',\n",
       " 672: 'Toyota',\n",
       " 673: 'Toyota',\n",
       " 674: 'Toyota',\n",
       " 675: 'Toyota',\n",
       " 676: 'Toyota',\n",
       " 677: 'Cadillac',\n",
       " 678: 'Chevrolet',\n",
       " 679: 'Chevrolet',\n",
       " 680: 'GMC',\n",
       " 681: 'Dodge',\n",
       " 682: 'Dodge',\n",
       " 683: 'Dodge',\n",
       " 684: 'Dodge',\n",
       " 685: 'Buick',\n",
       " 686: 'Toyota',\n",
       " 687: 'Toyota',\n",
       " 688: 'Acura',\n",
       " 689: 'Acura',\n",
       " 690: 'Alfa Romeo',\n",
       " 691: 'GMC',\n",
       " 692: 'Chevrolet',\n",
       " 693: 'Chevrolet',\n",
       " 694: 'Chevrolet',\n",
       " 695: 'Nissan',\n",
       " 696: 'Nissan',\n",
       " 697: 'Nissan',\n",
       " 698: 'Nissan',\n",
       " 699: 'Dodge',\n",
       " 700: 'Ferrari',\n",
       " 701: 'Ferrari',\n",
       " 702: 'GMC',\n",
       " 703: 'Ferrari',\n",
       " 704: 'Honda',\n",
       " 705: 'Honda',\n",
       " 706: 'Honda',\n",
       " 707: 'Honda',\n",
       " 708: 'Honda',\n",
       " 709: 'Jaguar',\n",
       " 710: 'Lotus',\n",
       " 711: 'Mazda',\n",
       " 712: 'Mazda',\n",
       " 713: 'Grumman Olson',\n",
       " 714: 'Mazda',\n",
       " 715: 'Mazda',\n",
       " 716: 'Mercedes-Benz',\n",
       " 717: 'Mercedes-Benz',\n",
       " 718: 'Mercedes-Benz',\n",
       " 719: 'Porsche',\n",
       " 720: 'Porsche',\n",
       " 721: 'Porsche',\n",
       " 722: 'Porsche',\n",
       " 723: 'Porsche',\n",
       " 724: 'Grumman Olson',\n",
       " 725: 'Toyota',\n",
       " 726: 'Toyota',\n",
       " 727: 'Toyota',\n",
       " 728: 'Audi',\n",
       " 729: 'BMW',\n",
       " 730: 'BMW',\n",
       " 731: 'BMW',\n",
       " 732: 'BMW',\n",
       " 733: 'Mercury',\n",
       " 734: 'Mercury',\n",
       " 735: 'Jeep',\n",
       " 736: 'Mercury',\n",
       " 737: 'Mercedes-Benz',\n",
       " 738: 'Porsche',\n",
       " 739: 'Porsche',\n",
       " 740: 'Porsche',\n",
       " 741: 'Porsche',\n",
       " 742: 'Porsche',\n",
       " 743: 'Porsche',\n",
       " 744: 'Porsche',\n",
       " 745: 'Porsche',\n",
       " 746: 'Jeep',\n",
       " 747: 'Toyota',\n",
       " 748: 'Toyota',\n",
       " 749: 'Toyota',\n",
       " 750: 'Toyota',\n",
       " 751: 'Toyota',\n",
       " 752: 'Toyota',\n",
       " 753: 'Acura',\n",
       " 754: 'Acura',\n",
       " 755: 'Acura',\n",
       " 756: 'Audi',\n",
       " 757: 'Jeep',\n",
       " 758: 'BMW',\n",
       " 759: 'BMW',\n",
       " 760: 'BMW',\n",
       " 761: 'BMW',\n",
       " 762: 'BMW',\n",
       " 763: 'BMW',\n",
       " 764: 'BMW',\n",
       " 765: 'BMW',\n",
       " 766: 'Chevrolet',\n",
       " 767: 'Chevrolet',\n",
       " 768: 'Jeep',\n",
       " 769: 'Chevrolet',\n",
       " 770: 'Chevrolet',\n",
       " 771: 'Chevrolet',\n",
       " 772: 'Chevrolet',\n",
       " 773: 'Chevrolet',\n",
       " 774: 'Chevrolet',\n",
       " 775: 'Chevrolet',\n",
       " 776: 'Chevrolet',\n",
       " 777: 'Chrysler',\n",
       " 778: 'Nissan',\n",
       " 779: 'Dodge',\n",
       " 780: 'Jeep',\n",
       " 781: 'Nissan',\n",
       " 782: 'Nissan',\n",
       " 783: 'Nissan',\n",
       " 784: 'Nissan',\n",
       " 785: 'Nissan',\n",
       " 786: 'Dodge',\n",
       " 787: 'Dodge',\n",
       " 788: 'Dodge',\n",
       " 789: 'Dodge',\n",
       " 790: 'Dodge',\n",
       " 791: 'Jeep',\n",
       " 792: 'Dodge',\n",
       " 793: 'Dodge',\n",
       " 794: 'Dodge',\n",
       " 795: 'Dodge',\n",
       " 796: 'Eagle',\n",
       " 797: 'Eagle',\n",
       " 798: 'Eagle',\n",
       " 799: 'Eagle',\n",
       " 800: 'Eagle',\n",
       " 801: 'Eagle',\n",
       " 802: 'Plymouth',\n",
       " 803: 'Eagle',\n",
       " 804: 'Eagle',\n",
       " 805: 'Eagle',\n",
       " 806: 'Eagle',\n",
       " 807: 'Eagle',\n",
       " 808: 'Eagle',\n",
       " 809: 'Ferrari',\n",
       " 810: 'Ferrari',\n",
       " 811: 'Ford',\n",
       " 812: 'Ford',\n",
       " 813: 'Plymouth',\n",
       " 814: 'Ford',\n",
       " 815: 'Ford',\n",
       " 816: 'Ford',\n",
       " 817: 'Ford',\n",
       " 818: 'Ford',\n",
       " 819: 'Ford',\n",
       " 820: 'Ford',\n",
       " 821: 'Ford',\n",
       " 822: 'Geo',\n",
       " 823: 'Geo',\n",
       " 824: 'Plymouth',\n",
       " 825: 'Geo',\n",
       " 826: 'Honda',\n",
       " 827: 'Honda',\n",
       " 828: 'Honda',\n",
       " 829: 'Honda',\n",
       " 830: 'Honda',\n",
       " 831: 'Honda',\n",
       " 832: 'Honda',\n",
       " 833: 'Honda',\n",
       " 834: 'Honda',\n",
       " 835: 'Plymouth',\n",
       " 836: 'Honda',\n",
       " 837: 'Honda',\n",
       " 838: 'Honda',\n",
       " 839: 'Honda',\n",
       " 840: 'Hyundai',\n",
       " 841: 'Hyundai',\n",
       " 842: 'Hyundai',\n",
       " 843: 'Hyundai',\n",
       " 844: 'Hyundai',\n",
       " 845: 'Infiniti',\n",
       " 846: 'Plymouth',\n",
       " 847: 'Jaguar',\n",
       " 848: 'Jaguar',\n",
       " 849: 'Jaguar',\n",
       " 850: 'Lexus',\n",
       " 851: 'Lexus',\n",
       " 852: 'Lexus',\n",
       " 853: 'Mazda',\n",
       " 854: 'Mazda',\n",
       " 855: 'Mazda',\n",
       " 856: 'Mazda',\n",
       " 857: 'American Motors Corporation',\n",
       " 858: 'Mazda',\n",
       " 859: 'Mazda',\n",
       " 860: 'Mazda',\n",
       " 861: 'Mazda',\n",
       " 862: 'Mercedes-Benz',\n",
       " 863: 'Mitsubishi',\n",
       " 864: 'Mitsubishi',\n",
       " 865: 'Mitsubishi',\n",
       " 866: 'Mitsubishi',\n",
       " 867: 'Mitsubishi',\n",
       " 868: 'American Motors Corporation',\n",
       " 869: 'Mitsubishi',\n",
       " 870: 'Mitsubishi',\n",
       " 871: 'Mitsubishi',\n",
       " 872: 'Mitsubishi',\n",
       " 873: 'Mitsubishi',\n",
       " 874: 'Mitsubishi',\n",
       " 875: 'Mitsubishi',\n",
       " 876: 'Mitsubishi',\n",
       " 877: 'Mitsubishi',\n",
       " 878: 'Mitsubishi',\n",
       " 879: 'Chevrolet',\n",
       " 880: 'Plymouth',\n",
       " 881: 'Plymouth',\n",
       " 882: 'Plymouth',\n",
       " 883: 'Plymouth',\n",
       " 884: 'Plymouth',\n",
       " 885: 'Plymouth',\n",
       " 886: 'Plymouth',\n",
       " 887: 'Plymouth',\n",
       " 888: 'Plymouth',\n",
       " 889: 'Plymouth',\n",
       " 890: 'Dodge',\n",
       " 891: 'Chevrolet',\n",
       " 892: 'Plymouth',\n",
       " 893: 'Plymouth',\n",
       " 894: 'Pontiac',\n",
       " 895: 'Pontiac',\n",
       " 896: 'Pontiac',\n",
       " 897: 'Pontiac',\n",
       " 898: 'Pontiac',\n",
       " 899: 'Pontiac',\n",
       " 900: 'Pontiac',\n",
       " 901: 'Pontiac',\n",
       " 902: 'Chevrolet',\n",
       " 903: 'Pontiac',\n",
       " 904: 'Pontiac',\n",
       " 905: 'Rolls-Royce',\n",
       " 906: 'Rolls-Royce',\n",
       " 907: 'Saab',\n",
       " 908: 'Saab',\n",
       " 909: 'Saab',\n",
       " 910: 'Saab',\n",
       " 911: 'Saab',\n",
       " 912: 'Saturn',\n",
       " 913: 'Chevrolet',\n",
       " 914: 'Saturn',\n",
       " 915: 'Saturn',\n",
       " 916: 'Saturn',\n",
       " 917: 'Subaru',\n",
       " 918: 'Subaru',\n",
       " 919: 'Subaru',\n",
       " 920: 'Subaru',\n",
       " 921: 'Subaru',\n",
       " 922: 'Subaru',\n",
       " 923: 'Subaru',\n",
       " 924: 'Chevrolet',\n",
       " 925: 'Subaru',\n",
       " 926: 'Suzuki',\n",
       " 927: 'Suzuki',\n",
       " 928: 'Suzuki',\n",
       " 929: 'Toyota',\n",
       " 930: 'Toyota',\n",
       " 931: 'Toyota',\n",
       " 932: 'Toyota',\n",
       " 933: 'Toyota',\n",
       " 934: 'Toyota',\n",
       " 935: 'Chevrolet',\n",
       " 936: 'Toyota',\n",
       " 937: 'Volkswagen',\n",
       " 938: 'Volkswagen',\n",
       " 939: 'Acura',\n",
       " 940: 'Acura',\n",
       " 941: 'Acura',\n",
       " 942: 'Acura',\n",
       " 943: 'Acura',\n",
       " 944: 'Acura',\n",
       " 945: 'Alfa Romeo',\n",
       " 946: 'Chevrolet',\n",
       " 947: 'Alfa Romeo',\n",
       " 948: 'Audi',\n",
       " 949: 'Audi',\n",
       " 950: 'Audi',\n",
       " 951: 'Audi',\n",
       " 952: 'Audi',\n",
       " 953: 'Audi',\n",
       " 954: 'Audi',\n",
       " 955: 'Audi',\n",
       " 956: 'BMW',\n",
       " 957: 'Chevrolet',\n",
       " 958: 'BMW',\n",
       " 959: 'BMW',\n",
       " 960: 'BMW',\n",
       " 961: 'BMW',\n",
       " 962: 'BMW',\n",
       " 963: 'BMW',\n",
       " 964: 'Buick',\n",
       " 965: 'Buick',\n",
       " 966: 'Buick',\n",
       " 967: 'Chevrolet',\n",
       " 968: 'Chevrolet',\n",
       " 969: 'Chevrolet',\n",
       " 970: 'Chevrolet',\n",
       " 971: 'Chevrolet',\n",
       " 972: 'Chevrolet',\n",
       " 973: 'Chevrolet',\n",
       " 974: 'Chevrolet',\n",
       " 975: 'Chevrolet',\n",
       " 976: 'Chevrolet',\n",
       " 977: 'Chrysler',\n",
       " 978: 'Chrysler',\n",
       " 979: 'Chevrolet',\n",
       " 980: 'Chrysler',\n",
       " 981: 'Nissan',\n",
       " 982: 'Nissan',\n",
       " 983: 'Dodge',\n",
       " 984: 'Dodge',\n",
       " 985: 'Dodge',\n",
       " 986: 'Dodge',\n",
       " 987: 'Dodge',\n",
       " 988: 'Dodge',\n",
       " 989: 'Ford',\n",
       " 990: 'Chevrolet',\n",
       " 991: 'Ford',\n",
       " 992: 'Ford',\n",
       " 993: 'Ford',\n",
       " 994: 'Ford',\n",
       " 995: 'Ford',\n",
       " 996: 'Ford',\n",
       " 997: 'Ford',\n",
       " 998: 'Geo',\n",
       " 999: 'Geo',\n",
       " ...}"
      ]
     },
     "execution_count": 204,
     "metadata": {},
     "output_type": "execute_result"
    }
   ],
   "source": [
    "make.to_dict()"
   ]
  },
  {
   "cell_type": "code",
   "execution_count": 205,
   "metadata": {},
   "outputs": [
    {
     "data": {
      "text/plain": [
       "0        19\n",
       "1         9\n",
       "2        23\n",
       "3        10\n",
       "4        17\n",
       "         ..\n",
       "41139    19\n",
       "41140    20\n",
       "41141    18\n",
       "41142    18\n",
       "41143    16\n",
       "Name: city08, Length: 41144, dtype: int64[pyarrow]"
      ]
     },
     "execution_count": 205,
     "metadata": {},
     "output_type": "execute_result"
    }
   ],
   "source": [
    "city_mpg"
   ]
  },
  {
   "cell_type": "code",
   "execution_count": 206,
   "metadata": {},
   "outputs": [
    {
     "data": {
      "text/plain": [
       "Alfa Romeo    19\n",
       "Ferrari        9\n",
       "Dodge         23\n",
       "Dodge         10\n",
       "Subaru        17\n",
       "              ..\n",
       "Subaru        19\n",
       "Subaru        20\n",
       "Subaru        18\n",
       "Subaru        18\n",
       "Subaru        16\n",
       "Name: city08, Length: 41144, dtype: int64[pyarrow]"
      ]
     },
     "execution_count": 206,
     "metadata": {},
     "output_type": "execute_result"
    }
   ],
   "source": [
    "# city2 = city_mpg.rename(make.to_dict())\n",
    "city2 = city_mpg.rename(make)\n",
    "city2"
   ]
  },
  {
   "cell_type": "code",
   "execution_count": 207,
   "metadata": {},
   "outputs": [
    {
     "data": {
      "text/plain": [
       "Index(['Alfa Romeo', 'Ferrari', 'Dodge', 'Dodge', 'Subaru', 'Subaru', 'Subaru',\n",
       "       'Toyota', 'Toyota', 'Toyota',\n",
       "       ...\n",
       "       'Saab', 'Saturn', 'Saturn', 'Saturn', 'Saturn', 'Subaru', 'Subaru',\n",
       "       'Subaru', 'Subaru', 'Subaru'],\n",
       "      dtype='object', length=41144)"
      ]
     },
     "execution_count": 207,
     "metadata": {},
     "output_type": "execute_result"
    }
   ],
   "source": [
    "city2.index"
   ]
  },
  {
   "cell_type": "code",
   "execution_count": 208,
   "metadata": {},
   "outputs": [
    {
     "data": {
      "text/plain": [
       "0        19\n",
       "1         9\n",
       "2        23\n",
       "3        10\n",
       "4        17\n",
       "         ..\n",
       "41139    19\n",
       "41140    20\n",
       "41141    18\n",
       "41142    18\n",
       "41143    16\n",
       "Name: city08, Length: 41144, dtype: int64[pyarrow]"
      ]
     },
     "execution_count": 208,
     "metadata": {},
     "output_type": "execute_result"
    }
   ],
   "source": [
    "# city2.reset_index()\n",
    "city2.reset_index(drop=True)"
   ]
  },
  {
   "cell_type": "code",
   "execution_count": 209,
   "metadata": {},
   "outputs": [
    {
     "data": {
      "text/plain": [
       "Subaru    17\n",
       "Subaru    21\n",
       "Subaru    22\n",
       "Subaru    19\n",
       "Subaru    20\n",
       "          ..\n",
       "Subaru    19\n",
       "Subaru    20\n",
       "Subaru    18\n",
       "Subaru    18\n",
       "Subaru    16\n",
       "Name: city08, Length: 885, dtype: int64[pyarrow]"
      ]
     },
     "execution_count": 209,
     "metadata": {},
     "output_type": "execute_result"
    }
   ],
   "source": [
    "city2.loc['Subaru']"
   ]
  },
  {
   "cell_type": "code",
   "execution_count": 210,
   "metadata": {},
   "outputs": [
    {
     "data": {
      "text/plain": [
       "Fisker    20\n",
       "Name: city08, dtype: int64[pyarrow]"
      ]
     },
     "execution_count": 210,
     "metadata": {},
     "output_type": "execute_result"
    }
   ],
   "source": [
    "# city2.loc['Fisker']\n",
    "city2.loc[['Fisker']]"
   ]
  },
  {
   "cell_type": "code",
   "execution_count": 211,
   "metadata": {},
   "outputs": [
    {
     "data": {
      "text/plain": [
       "Ferrari         9\n",
       "Ferrari        12\n",
       "Ferrari        11\n",
       "Ferrari        10\n",
       "Ferrari        11\n",
       "               ..\n",
       "Lamborghini     6\n",
       "Lamborghini     8\n",
       "Lamborghini     8\n",
       "Lamborghini     8\n",
       "Lamborghini     8\n",
       "Name: city08, Length: 357, dtype: int64[pyarrow]"
      ]
     },
     "execution_count": 211,
     "metadata": {},
     "output_type": "execute_result"
    }
   ],
   "source": [
    "city2.loc[['Ferrari', 'Lamborghini']]"
   ]
  },
  {
   "cell_type": "code",
   "execution_count": 212,
   "metadata": {},
   "outputs": [
    {
     "data": {
      "text/plain": [
       "Ferrari        10\n",
       "Ferrari        13\n",
       "Ferrari        13\n",
       "Ferrari         9\n",
       "Ferrari        10\n",
       "               ..\n",
       "Lamborghini    12\n",
       "Lamborghini     9\n",
       "Lamborghini     8\n",
       "Lamborghini    13\n",
       "Lamborghini     8\n",
       "Name: city08, Length: 11210, dtype: int64[pyarrow]"
      ]
     },
     "execution_count": 212,
     "metadata": {},
     "output_type": "execute_result"
    }
   ],
   "source": [
    "# city2.loc['Ferrari':'Lamborghini'] # need to sort first\n",
    "city2.sort_index().loc['Ferrari':'Lamborghini']"
   ]
  },
  {
   "cell_type": "code",
   "execution_count": 213,
   "metadata": {},
   "outputs": [
    {
     "data": {
      "text/plain": [
       "Federal Coach    15\n",
       "Federal Coach    13\n",
       "Federal Coach    13\n",
       "Federal Coach    14\n",
       "Federal Coach    13\n",
       "                 ..\n",
       "Isuzu            15\n",
       "Isuzu            15\n",
       "Isuzu            15\n",
       "Isuzu            27\n",
       "Isuzu            18\n",
       "Name: city08, Length: 9040, dtype: int64[pyarrow]"
      ]
     },
     "execution_count": 213,
     "metadata": {},
     "output_type": "execute_result"
    }
   ],
   "source": [
    "city2.sort_index().loc['F':'J']"
   ]
  },
  {
   "cell_type": "code",
   "execution_count": 214,
   "metadata": {},
   "outputs": [
    {
     "data": {
      "text/plain": [
       "Dodge    23\n",
       "Dodge    10\n",
       "Dodge    12\n",
       "Dodge    11\n",
       "Dodge    11\n",
       "         ..\n",
       "Dodge    18\n",
       "Dodge    17\n",
       "Dodge    14\n",
       "Dodge    14\n",
       "Dodge    11\n",
       "Name: city08, Length: 2583, dtype: int64[pyarrow]"
      ]
     },
     "execution_count": 214,
     "metadata": {},
     "output_type": "execute_result"
    }
   ],
   "source": [
    "idx = pd.Index(['Dodge'])\n",
    "city2.loc[idx]"
   ]
  },
  {
   "cell_type": "code",
   "execution_count": 215,
   "metadata": {},
   "outputs": [
    {
     "data": {
      "text/plain": [
       "Alfa Romeo    False\n",
       "Ferrari       False\n",
       "Dodge         False\n",
       "Dodge         False\n",
       "Subaru        False\n",
       "              ...  \n",
       "Subaru        False\n",
       "Subaru        False\n",
       "Subaru        False\n",
       "Subaru        False\n",
       "Subaru        False\n",
       "Name: city08, Length: 41144, dtype: bool[pyarrow]"
      ]
     },
     "execution_count": 215,
     "metadata": {},
     "output_type": "execute_result"
    }
   ],
   "source": [
    "mask = city2 > 50\n",
    "mask"
   ]
  },
  {
   "cell_type": "code",
   "execution_count": 216,
   "metadata": {},
   "outputs": [
    {
     "data": {
      "text/plain": [
       "Nissan     81\n",
       "Toyota     81\n",
       "Toyota     81\n",
       "Ford       74\n",
       "Nissan     84\n",
       "         ... \n",
       "Tesla     140\n",
       "Tesla     115\n",
       "Tesla     104\n",
       "Tesla      98\n",
       "Toyota     55\n",
       "Name: city08, Length: 236, dtype: int64[pyarrow]"
      ]
     },
     "execution_count": 216,
     "metadata": {},
     "output_type": "execute_result"
    }
   ],
   "source": [
    "city2.loc[mask]"
   ]
  },
  {
   "cell_type": "code",
   "execution_count": 217,
   "metadata": {},
   "outputs": [
    {
     "data": {
      "text/plain": [
       "Melon      4.389\n",
       "Carrots    3.069\n",
       "dtype: float64"
      ]
     },
     "execution_count": 217,
     "metadata": {},
     "output_type": "execute_result"
    }
   ],
   "source": [
    "cost = pd.Series([1.00, 2.25, 3.99, 0.99, 2.79], index=['Gum', 'Cookie', 'Melon', 'Roll', 'Carrots'])\n",
    "inflation = 1.10\n",
    "cost.mul(inflation).loc[lambda s_: s_ > 3]"
   ]
  },
  {
   "cell_type": "code",
   "execution_count": 218,
   "metadata": {},
   "outputs": [
    {
     "data": {
      "text/plain": [
       "Alfa Romeo    19\n",
       "Ferrari        9\n",
       "Dodge         23\n",
       "Dodge         10\n",
       "Subaru        17\n",
       "              ..\n",
       "Subaru        19\n",
       "Subaru        20\n",
       "Subaru        18\n",
       "Subaru        18\n",
       "Subaru        16\n",
       "Name: city08, Length: 41144, dtype: int64[pyarrow]"
      ]
     },
     "execution_count": 218,
     "metadata": {},
     "output_type": "execute_result"
    }
   ],
   "source": [
    "city2"
   ]
  },
  {
   "cell_type": "code",
   "execution_count": 219,
   "metadata": {},
   "outputs": [
    {
     "data": {
      "text/plain": [
       "19"
      ]
     },
     "execution_count": 219,
     "metadata": {},
     "output_type": "execute_result"
    }
   ],
   "source": [
    "city2.iloc[0]"
   ]
  },
  {
   "cell_type": "code",
   "execution_count": 220,
   "metadata": {},
   "outputs": [
    {
     "data": {
      "text/plain": [
       "13"
      ]
     },
     "execution_count": 220,
     "metadata": {},
     "output_type": "execute_result"
    }
   ],
   "source": [
    "city2.sort_index().iloc[0]"
   ]
  },
  {
   "cell_type": "code",
   "execution_count": 221,
   "metadata": {},
   "outputs": [
    {
     "data": {
      "text/plain": [
       "6"
      ]
     },
     "execution_count": 221,
     "metadata": {},
     "output_type": "execute_result"
    }
   ],
   "source": [
    "city2.sort_values().iloc[0]"
   ]
  },
  {
   "cell_type": "code",
   "execution_count": 222,
   "metadata": {},
   "outputs": [
    {
     "data": {
      "text/plain": [
       "16"
      ]
     },
     "execution_count": 222,
     "metadata": {},
     "output_type": "execute_result"
    }
   ],
   "source": [
    "city2.iloc[-1]"
   ]
  },
  {
   "cell_type": "code",
   "execution_count": 223,
   "metadata": {},
   "outputs": [
    {
     "data": {
      "text/plain": [
       "Alfa Romeo    19\n",
       "Ferrari        9\n",
       "Dodge         23\n",
       "Dodge         10\n",
       "Subaru        17\n",
       "Name: city08, dtype: int64[pyarrow]"
      ]
     },
     "execution_count": 223,
     "metadata": {},
     "output_type": "execute_result"
    }
   ],
   "source": [
    "city2.iloc[0:5]"
   ]
  },
  {
   "cell_type": "code",
   "execution_count": 224,
   "metadata": {},
   "outputs": [
    {
     "data": {
      "text/plain": [
       "Nissan     81\n",
       "Toyota     81\n",
       "Toyota     81\n",
       "Ford       74\n",
       "Nissan     84\n",
       "         ... \n",
       "Tesla     140\n",
       "Tesla     115\n",
       "Tesla     104\n",
       "Tesla      98\n",
       "Toyota     55\n",
       "Name: city08, Length: 236, dtype: int64[pyarrow]"
      ]
     },
     "execution_count": 224,
     "metadata": {},
     "output_type": "execute_result"
    }
   ],
   "source": [
    "mask =  city2 > 50\n",
    "# city2.iloc[mask] # this will fail\n",
    "city2.iloc[mask.to_numpy()]\n",
    "city2.iloc[list(mask)]"
   ]
  },
  {
   "cell_type": "code",
   "execution_count": 225,
   "metadata": {},
   "outputs": [
    {
     "data": {
      "text/plain": [
       "Volvo         16\n",
       "Mitsubishi    19\n",
       "Buick         27\n",
       "Jeep          15\n",
       "Land Rover    13\n",
       "Saab          17\n",
       "Name: city08, dtype: int64[pyarrow]"
      ]
     },
     "execution_count": 225,
     "metadata": {},
     "output_type": "execute_result"
    }
   ],
   "source": [
    "city2.sample(6, random_state=42)"
   ]
  },
  {
   "cell_type": "code",
   "execution_count": 226,
   "metadata": {},
   "outputs": [],
   "source": [
    "# city2.filter(items=['Ford', 'Subaru']) # fails because index is duplicated"
   ]
  },
  {
   "cell_type": "code",
   "execution_count": 227,
   "metadata": {},
   "outputs": [
    {
     "data": {
      "text/plain": [
       "Ford    18\n",
       "Ford    16\n",
       "Ford    17\n",
       "Ford    17\n",
       "Ford    15\n",
       "        ..\n",
       "Ford    26\n",
       "Ford    19\n",
       "Ford    21\n",
       "Ford    18\n",
       "Ford    19\n",
       "Name: city08, Length: 3371, dtype: int64[pyarrow]"
      ]
     },
     "execution_count": 227,
     "metadata": {},
     "output_type": "execute_result"
    }
   ],
   "source": [
    "city2.filter(like='rd')"
   ]
  },
  {
   "cell_type": "code",
   "execution_count": 228,
   "metadata": {},
   "outputs": [
    {
     "data": {
      "text/plain": [
       "Subaru    17\n",
       "Subaru    21\n",
       "Subaru    22\n",
       "Ford      18\n",
       "Ford      16\n",
       "          ..\n",
       "Subaru    19\n",
       "Subaru    20\n",
       "Subaru    18\n",
       "Subaru    18\n",
       "Subaru    16\n",
       "Name: city08, Length: 4256, dtype: int64[pyarrow]"
      ]
     },
     "execution_count": 228,
     "metadata": {},
     "output_type": "execute_result"
    }
   ],
   "source": [
    "city2.filter(regex='(Ford)|(Subaru)')"
   ]
  },
  {
   "cell_type": "code",
   "execution_count": 229,
   "metadata": {},
   "outputs": [
    {
     "data": {
      "text/plain": [
       "0            19\n",
       "0            19\n",
       "10           23\n",
       "20           14\n",
       "2000000    <NA>\n",
       "Name: city08, dtype: int64[pyarrow]"
      ]
     },
     "execution_count": 229,
     "metadata": {},
     "output_type": "execute_result"
    }
   ],
   "source": [
    "city_mpg.reindex([0, 0, 10, 20, 2_000_000])"
   ]
  },
  {
   "cell_type": "code",
   "execution_count": 230,
   "metadata": {},
   "outputs": [
    {
     "data": {
      "text/plain": [
       "b    15\n",
       "c    25\n",
       "d    35\n",
       "dtype: int64"
      ]
     },
     "execution_count": 230,
     "metadata": {},
     "output_type": "execute_result"
    }
   ],
   "source": [
    "s1 = pd.Series([10, 20, 30], index=['a', 'b', 'c'])\n",
    "s2 = pd.Series([15, 25, 35], index=['b', 'c', 'd'])\n",
    "\n",
    "s2"
   ]
  },
  {
   "cell_type": "code",
   "execution_count": 231,
   "metadata": {},
   "outputs": [
    {
     "data": {
      "text/plain": [
       "a     NaN\n",
       "b    15.0\n",
       "c    25.0\n",
       "dtype: float64"
      ]
     },
     "execution_count": 231,
     "metadata": {},
     "output_type": "execute_result"
    }
   ],
   "source": [
    "s2.reindex(s1.index)"
   ]
  },
  {
   "cell_type": "code",
   "execution_count": 232,
   "metadata": {},
   "outputs": [
    {
     "data": {
      "text/plain": [
       "0     0-10\n",
       "1    11-15\n",
       "2    11-15\n",
       "3    61-65\n",
       "4    46-50\n",
       "dtype: string[pyarrow]"
      ]
     },
     "execution_count": 232,
     "metadata": {},
     "output_type": "execute_result"
    }
   ],
   "source": [
    "import pyarrow as pa\n",
    "\n",
    "string_pa = pd.ArrowDtype(pa.string())\n",
    "age = pd.Series(['0-10', '11-15', '11-15', '61-65', '46-50'], dtype=string_pa)\n",
    "age\n"
   ]
  },
  {
   "cell_type": "code",
   "execution_count": 233,
   "metadata": {},
   "outputs": [
    {
     "data": {
      "text/html": [
       "<div>\n",
       "<style scoped>\n",
       "    .dataframe tbody tr th:only-of-type {\n",
       "        vertical-align: middle;\n",
       "    }\n",
       "\n",
       "    .dataframe tbody tr th {\n",
       "        vertical-align: top;\n",
       "    }\n",
       "\n",
       "    .dataframe thead th {\n",
       "        text-align: right;\n",
       "    }\n",
       "</style>\n",
       "<table border=\"1\" class=\"dataframe\">\n",
       "  <thead>\n",
       "    <tr style=\"text-align: right;\">\n",
       "      <th></th>\n",
       "      <th>0</th>\n",
       "      <th>1</th>\n",
       "    </tr>\n",
       "  </thead>\n",
       "  <tbody>\n",
       "    <tr>\n",
       "      <th>0</th>\n",
       "      <td>0</td>\n",
       "      <td>10</td>\n",
       "    </tr>\n",
       "    <tr>\n",
       "      <th>1</th>\n",
       "      <td>11</td>\n",
       "      <td>15</td>\n",
       "    </tr>\n",
       "    <tr>\n",
       "      <th>2</th>\n",
       "      <td>11</td>\n",
       "      <td>15</td>\n",
       "    </tr>\n",
       "    <tr>\n",
       "      <th>3</th>\n",
       "      <td>61</td>\n",
       "      <td>65</td>\n",
       "    </tr>\n",
       "    <tr>\n",
       "      <th>4</th>\n",
       "      <td>46</td>\n",
       "      <td>50</td>\n",
       "    </tr>\n",
       "  </tbody>\n",
       "</table>\n",
       "</div>"
      ],
      "text/plain": [
       "    0   1\n",
       "0   0  10\n",
       "1  11  15\n",
       "2  11  15\n",
       "3  61  65\n",
       "4  46  50"
      ]
     },
     "execution_count": 233,
     "metadata": {},
     "output_type": "execute_result"
    }
   ],
   "source": [
    "age_split = (age\n",
    " .str.split('-', expand=True)\n",
    " .astype('int8[pyarrow]'))\n",
    "\n",
    "age_split"
   ]
  },
  {
   "cell_type": "code",
   "execution_count": 234,
   "metadata": {},
   "outputs": [
    {
     "data": {
      "text/plain": [
       "0     5.0\n",
       "1    13.0\n",
       "2    13.0\n",
       "3    63.0\n",
       "4    48.0\n",
       "dtype: double[pyarrow]"
      ]
     },
     "execution_count": 234,
     "metadata": {},
     "output_type": "execute_result"
    }
   ],
   "source": [
    "age_split.mean(axis=1)"
   ]
  }
 ],
 "metadata": {
  "kernelspec": {
   "display_name": "m5",
   "language": "python",
   "name": "python3"
  },
  "language_info": {
   "codemirror_mode": {
    "name": "ipython",
    "version": 3
   },
   "file_extension": ".py",
   "mimetype": "text/x-python",
   "name": "python",
   "nbconvert_exporter": "python",
   "pygments_lexer": "ipython3",
   "version": "3.12.2"
  }
 },
 "nbformat": 4,
 "nbformat_minor": 2
}
