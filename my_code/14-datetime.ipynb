{
 "cells": [
  {
   "cell_type": "markdown",
   "metadata": {},
   "source": [
    "## Chapter 14 - Date and Time Manipulation"
   ]
  },
  {
   "cell_type": "code",
   "execution_count": 1,
   "metadata": {},
   "outputs": [
    {
     "data": {
      "text/plain": [
       "0    2015-03-08 08:00:00+00:00\n",
       "1    2015-03-08 08:30:00+00:00\n",
       "2    2015-03-08 09:00:00+00:00\n",
       "3    2015-03-08 09:30:00+00:00\n",
       "4    2015-11-01 06:30:00+00:00\n",
       "5    2015-11-01 07:00:00+00:00\n",
       "6    2015-11-01 07:30:00+00:00\n",
       "7    2015-11-01 08:00:00+00:00\n",
       "8    2015-11-01 08:30:00+00:00\n",
       "9    2015-11-01 08:00:00+00:00\n",
       "10   2015-11-01 08:30:00+00:00\n",
       "11   2015-11-01 09:00:00+00:00\n",
       "12   2015-11-01 09:30:00+00:00\n",
       "13   2015-11-01 10:00:00+00:00\n",
       "dtype: datetime64[ns, UTC]"
      ]
     },
     "execution_count": 1,
     "metadata": {},
     "output_type": "execute_result"
    }
   ],
   "source": [
    "import pandas as pd\n",
    "\n",
    "\n",
    "col = pd.Series([\n",
    "    '2015-03-08 08:00:00+00:00',\n",
    "    '2015-03-08 08:30:00+00:00',\n",
    "    '2015-03-08 09:00:00+00:00',\n",
    "    '2015-03-08 09:30:00+00:00',\n",
    "    '2015-11-01 06:30:00+00:00',\n",
    "    '2015-11-01 07:00:00+00:00',\n",
    "    '2015-11-01 07:30:00+00:00',\n",
    "    '2015-11-01 08:00:00+00:00',\n",
    "    '2015-11-01 08:30:00+00:00',\n",
    "    '2015-11-01 08:00:00+00:00',\n",
    "    '2015-11-01 08:30:00+00:00',\n",
    "    '2015-11-01 09:00:00+00:00',\n",
    "    '2015-11-01 09:30:00+00:00',\n",
    "    '2015-11-01 10:00:00+00:00',\n",
    "])\n",
    "\n",
    "utc_s = pd.to_datetime(col, utc=True)\n",
    "utc_s"
   ]
  },
  {
   "cell_type": "code",
   "execution_count": 2,
   "metadata": {},
   "outputs": [
    {
     "data": {
      "text/plain": [
       "0    2015-03-08 01:00:00-07:00\n",
       "1    2015-03-08 01:30:00-07:00\n",
       "2    2015-03-08 03:00:00-06:00\n",
       "3    2015-03-08 03:30:00-06:00\n",
       "4    2015-11-01 00:30:00-06:00\n",
       "5    2015-11-01 01:00:00-06:00\n",
       "6    2015-11-01 01:30:00-06:00\n",
       "7    2015-11-01 01:00:00-07:00\n",
       "8    2015-11-01 01:30:00-07:00\n",
       "9    2015-11-01 01:00:00-07:00\n",
       "10   2015-11-01 01:30:00-07:00\n",
       "11   2015-11-01 02:00:00-07:00\n",
       "12   2015-11-01 02:30:00-07:00\n",
       "13   2015-11-01 03:00:00-07:00\n",
       "dtype: datetime64[ns, America/Denver]"
      ]
     },
     "execution_count": 2,
     "metadata": {},
     "output_type": "execute_result"
    }
   ],
   "source": [
    "utc_s.dt.tz_convert('America/Denver')"
   ]
  },
  {
   "cell_type": "code",
   "execution_count": 3,
   "metadata": {},
   "outputs": [
    {
     "data": {
      "text/plain": [
       "0    2015-03-08 01:30:00-07:00\n",
       "1    2015-03-08 03:00:00-06:00\n",
       "2    2015-03-08 03:30:00-06:00\n",
       "3    2015-11-01 00:30:00-06:00\n",
       "4    2015-11-01 01:00:00-06:00\n",
       "5    2015-11-01 01:30:00-06:00\n",
       "6    2015-11-01 01:00:00-07:00\n",
       "7    2015-11-01 01:30:00-07:00\n",
       "8    2015-11-01 01:00:00-07:00\n",
       "9    2015-11-01 01:30:00-07:00\n",
       "10   2015-11-01 02:00:00-07:00\n",
       "11   2015-11-01 02:30:00-07:00\n",
       "12   2015-11-01 03:00:00-07:00\n",
       "dtype: datetime64[ns, America/Denver]"
      ]
     },
     "execution_count": 3,
     "metadata": {},
     "output_type": "execute_result"
    }
   ],
   "source": [
    "s = pd.Series([\n",
    "    '2015-03-08 01:30:00-07:00',\n",
    "    '2015-03-08 03:00:00-06:00',\n",
    "    '2015-03-08 03:30:00-06:00',\n",
    "    '2015-11-01 00:30:00-06:00',\n",
    "    '2015-11-01 01:00:00-06:00',\n",
    "    '2015-11-01 01:30:00-06:00',\n",
    "    '2015-11-01 01:00:00-07:00',\n",
    "    '2015-11-01 01:30:00-07:00',\n",
    "    '2015-11-01 01:00:00-07:00',\n",
    "    '2015-11-01 01:30:00-07:00',\n",
    "    '2015-11-01 02:00:00-07:00',\n",
    "    '2015-11-01 02:30:00-07:00',\n",
    "    '2015-11-01 03:00:00-07:00'\n",
    "])\n",
    "\n",
    "pd.to_datetime(s, utc=True).dt.tz_convert('America/Denver')"
   ]
  },
  {
   "cell_type": "code",
   "execution_count": 4,
   "metadata": {},
   "outputs": [],
   "source": [
    "time = pd.Series([\n",
    "    '2015-03-08 01:30:00',\n",
    "    '2015-03-08 03:00:00',\n",
    "    '2015-03-08 03:30:00',\n",
    "    '2015-11-01 00:30:00',\n",
    "    '2015-11-01 01:00:00',\n",
    "    '2015-11-01 01:30:00',\n",
    "    '2015-11-01 01:00:00',\n",
    "    '2015-11-01 01:30:00',\n",
    "    '2015-11-01 01:00:00',\n",
    "    '2015-11-01 01:30:00',\n",
    "    '2015-11-01 02:00:00',\n",
    "    '2015-11-01 02:30:00',\n",
    "    '2015-11-01 03:00:00'\n",
    "])\n",
    "\n",
    "offset = pd.Series([-7, -6, -6, -6, -6, -6, -7, -7, -7, -7, -7, -7, -7])\n",
    "offset = offset.replace({-7: '-07:00', -6: '-06:00'})"
   ]
  },
  {
   "cell_type": "code",
   "execution_count": 5,
   "metadata": {},
   "outputs": [
    {
     "data": {
      "text/plain": [
       "0    2015-03-08 01:30:00-07:00\n",
       "1    2015-03-08 03:00:00-06:00\n",
       "2    2015-03-08 03:30:00-06:00\n",
       "3    2015-11-01 00:30:00-06:00\n",
       "4    2015-11-01 01:00:00-06:00\n",
       "5    2015-11-01 01:30:00-06:00\n",
       "6    2015-11-01 01:00:00-07:00\n",
       "7    2015-11-01 01:30:00-07:00\n",
       "8    2015-11-01 01:00:00-07:00\n",
       "9    2015-11-01 01:30:00-07:00\n",
       "10   2015-11-01 02:00:00-07:00\n",
       "11   2015-11-01 02:30:00-07:00\n",
       "12   2015-11-01 03:00:00-07:00\n",
       "dtype: datetime64[ns, America/Denver]"
      ]
     },
     "execution_count": 5,
     "metadata": {},
     "output_type": "execute_result"
    }
   ],
   "source": [
    "local = (pd.to_datetime(time)\n",
    "         .groupby(offset)\n",
    "         .transform(lambda s: s.dt.tz_localize(s.name).dt.tz_convert('America/Denver')))\n",
    "local"
   ]
  },
  {
   "cell_type": "code",
   "execution_count": 6,
   "metadata": {},
   "outputs": [
    {
     "data": {
      "text/plain": [
       "0    2015-03-08 08:30:00+00:00\n",
       "1    2015-03-08 09:00:00+00:00\n",
       "2    2015-03-08 09:30:00+00:00\n",
       "3    2015-11-01 06:30:00+00:00\n",
       "4    2015-11-01 07:00:00+00:00\n",
       "5    2015-11-01 07:30:00+00:00\n",
       "6    2015-11-01 08:00:00+00:00\n",
       "7    2015-11-01 08:30:00+00:00\n",
       "8    2015-11-01 08:00:00+00:00\n",
       "9    2015-11-01 08:30:00+00:00\n",
       "10   2015-11-01 09:00:00+00:00\n",
       "11   2015-11-01 09:30:00+00:00\n",
       "12   2015-11-01 10:00:00+00:00\n",
       "dtype: datetime64[ns, UTC]"
      ]
     },
     "execution_count": 6,
     "metadata": {},
     "output_type": "execute_result"
    }
   ],
   "source": [
    "local.dt.tz_convert('UTC')"
   ]
  },
  {
   "cell_type": "code",
   "execution_count": 7,
   "metadata": {},
   "outputs": [
    {
     "data": {
      "text/plain": [
       "0     1425803400000000000\n",
       "1     1425805200000000000\n",
       "2     1425807000000000000\n",
       "3     1446359400000000000\n",
       "4     1446361200000000000\n",
       "5     1446363000000000000\n",
       "6     1446364800000000000\n",
       "7     1446366600000000000\n",
       "8     1446364800000000000\n",
       "9     1446366600000000000\n",
       "10    1446368400000000000\n",
       "11    1446370200000000000\n",
       "12    1446372000000000000\n",
       "dtype: int64[pyarrow]"
      ]
     },
     "execution_count": 7,
     "metadata": {},
     "output_type": "execute_result"
    }
   ],
   "source": [
    "nano_secs = local.astype('int64[pyarrow]')\n",
    "nano_secs"
   ]
  },
  {
   "cell_type": "code",
   "execution_count": 8,
   "metadata": {},
   "outputs": [
    {
     "data": {
      "text/plain": [
       "0    2015-03-08 08:30:00+00:00\n",
       "1    2015-03-08 09:00:00+00:00\n",
       "2    2015-03-08 09:30:00+00:00\n",
       "3    2015-11-01 06:30:00+00:00\n",
       "4    2015-11-01 07:00:00+00:00\n",
       "5    2015-11-01 07:30:00+00:00\n",
       "6    2015-11-01 08:00:00+00:00\n",
       "7    2015-11-01 08:30:00+00:00\n",
       "8    2015-11-01 08:00:00+00:00\n",
       "9    2015-11-01 08:30:00+00:00\n",
       "10   2015-11-01 09:00:00+00:00\n",
       "11   2015-11-01 09:30:00+00:00\n",
       "12   2015-11-01 10:00:00+00:00\n",
       "dtype: datetime64[ns, UTC]"
      ]
     },
     "execution_count": 8,
     "metadata": {},
     "output_type": "execute_result"
    }
   ],
   "source": [
    "(pd.to_datetime(nano_secs, unit='ns')\n",
    " .dt.tz_localize('UTC'))"
   ]
  },
  {
   "cell_type": "code",
   "execution_count": 9,
   "metadata": {},
   "outputs": [
    {
     "data": {
      "text/plain": [
       "0    2015-03-08 08:30:00+00:00\n",
       "1    2015-03-08 09:00:00+00:00\n",
       "2    2015-03-08 09:30:00+00:00\n",
       "3    2015-11-01 06:30:00+00:00\n",
       "4    2015-11-01 07:00:00+00:00\n",
       "5    2015-11-01 07:30:00+00:00\n",
       "6    2015-11-01 08:00:00+00:00\n",
       "7    2015-11-01 08:30:00+00:00\n",
       "8    2015-11-01 08:00:00+00:00\n",
       "9    2015-11-01 08:30:00+00:00\n",
       "10   2015-11-01 09:00:00+00:00\n",
       "11   2015-11-01 09:30:00+00:00\n",
       "12   2015-11-01 10:00:00+00:00\n",
       "dtype: datetime64[ns, UTC]"
      ]
     },
     "execution_count": 9,
     "metadata": {},
     "output_type": "execute_result"
    }
   ],
   "source": [
    "(nano_secs\n",
    " .truediv(1_000_000)\n",
    " .pipe(pd.to_datetime, unit='ms')\n",
    " .dt.tz_localize('UTC'))"
   ]
  },
  {
   "cell_type": "code",
   "execution_count": 10,
   "metadata": {},
   "outputs": [
    {
     "data": {
      "text/plain": [
       "STATION       object\n",
       "NAME          object\n",
       "LATITUDE     float64\n",
       "LONGITUDE    float64\n",
       "ELEVATION    float64\n",
       "DATE          object\n",
       "DAPR         float64\n",
       "DASF         float64\n",
       "MDPR         float64\n",
       "MDSF         float64\n",
       "PRCP         float64\n",
       "SNOW         float64\n",
       "SNWD         float64\n",
       "TMAX         float64\n",
       "TMIN         float64\n",
       "TOBS         float64\n",
       "WT01         float64\n",
       "WT03         float64\n",
       "WT04         float64\n",
       "WT05         float64\n",
       "WT06         float64\n",
       "WT11         float64\n",
       "dtype: object"
      ]
     },
     "execution_count": 10,
     "metadata": {},
     "output_type": "execute_result"
    }
   ],
   "source": [
    "url = 'https://github.com/mattharrison/datasets/raw/master/data/alta-noaa-1980-2019.csv'\n",
    "\n",
    "# alta_df = pd.read_csv(url, dtype_backend='pyarrow', engine='pyarrow')\n",
    "alta_df = pd.read_csv(url)\n",
    "alta_df.dtypes"
   ]
  },
  {
   "cell_type": "code",
   "execution_count": 11,
   "metadata": {},
   "outputs": [
    {
     "data": {
      "text/plain": [
       "0        1980-01-01 00:00:00\n",
       "1        1980-01-02 00:00:00\n",
       "2        1980-01-03 00:00:00\n",
       "3        1980-01-04 00:00:00\n",
       "4        1980-01-05 00:00:00\n",
       "                ...         \n",
       "14155    2019-09-03 00:00:00\n",
       "14156    2019-09-04 00:00:00\n",
       "14157    2019-09-05 00:00:00\n",
       "14158    2019-09-06 00:00:00\n",
       "14159    2019-09-07 00:00:00\n",
       "Name: DATE, Length: 14160, dtype: timestamp[ns][pyarrow]"
      ]
     },
     "execution_count": 11,
     "metadata": {},
     "output_type": "execute_result"
    }
   ],
   "source": [
    "dates = (pd.to_datetime(alta_df['DATE'])\n",
    "         .astype('timestamp[ns][pyarrow]'))\n",
    "dates"
   ]
  },
  {
   "cell_type": "code",
   "execution_count": 12,
   "metadata": {},
   "outputs": [
    {
     "data": {
      "text/plain": [
       "0           martes\n",
       "1        miércoles\n",
       "2           jueves\n",
       "3          viernes\n",
       "4           sábado\n",
       "           ...    \n",
       "14155       martes\n",
       "14156    miércoles\n",
       "14157       jueves\n",
       "14158      viernes\n",
       "14159       sábado\n",
       "Name: DATE, Length: 14160, dtype: string[pyarrow]"
      ]
     },
     "execution_count": 12,
     "metadata": {},
     "output_type": "execute_result"
    }
   ],
   "source": [
    "dates.dt.day_name('es_ES')"
   ]
  },
  {
   "cell_type": "code",
   "execution_count": 13,
   "metadata": {},
   "outputs": [
    {
     "data": {
      "text/plain": [
       "0        False\n",
       "1        False\n",
       "2        False\n",
       "3        False\n",
       "4        False\n",
       "         ...  \n",
       "14155    False\n",
       "14156    False\n",
       "14157    False\n",
       "14158    False\n",
       "14159    False\n",
       "Name: DATE, Length: 14160, dtype: bool[pyarrow]"
      ]
     },
     "execution_count": 13,
     "metadata": {},
     "output_type": "execute_result"
    }
   ],
   "source": [
    "dates.dt.is_month_end"
   ]
  },
  {
   "cell_type": "code",
   "execution_count": 14,
   "metadata": {},
   "outputs": [
    {
     "data": {
      "text/plain": [
       "0        01/01/80\n",
       "1        02/01/80\n",
       "2        03/01/80\n",
       "3        04/01/80\n",
       "4        05/01/80\n",
       "           ...   \n",
       "14155    03/09/19\n",
       "14156    04/09/19\n",
       "14157    05/09/19\n",
       "14158    06/09/19\n",
       "14159    07/09/19\n",
       "Name: DATE, Length: 14160, dtype: string[pyarrow]"
      ]
     },
     "execution_count": 14,
     "metadata": {},
     "output_type": "execute_result"
    }
   ],
   "source": [
    "dates.dt.strftime('%d/%m/%y')"
   ]
  },
  {
   "cell_type": "code",
   "execution_count": 15,
   "metadata": {},
   "outputs": [
    {
     "data": {
      "text/plain": [
       "cs106      2015-03-08 00:00:00\n",
       "cs150      2015-03-08 00:00:00\n",
       "hist205    2015-03-09 00:00:00\n",
       "hist206    2015-03-09 00:00:00\n",
       "hist207    2015-03-11 00:00:00\n",
       "dtype: timestamp[ns][pyarrow]"
      ]
     },
     "execution_count": 15,
     "metadata": {},
     "output_type": "execute_result"
    }
   ],
   "source": [
    "classes = ['cs106', 'cs150', 'hist205', 'hist206', 'hist207']\n",
    "start_dates = (pd.Series([\n",
    "        '2015-03-08',\n",
    "        '2015-03-08',\n",
    "        '2015-03-09',\n",
    "        '2015-03-09',\n",
    "        '2015-03-11'],\n",
    "        dtype='datetime64[ns]',\n",
    "        index=classes)\n",
    "        .astype('timestamp[ns][pyarrow]'))\n",
    "start_dates"
   ]
  },
  {
   "cell_type": "code",
   "execution_count": 16,
   "metadata": {},
   "outputs": [
    {
     "data": {
      "text/plain": [
       "cs106      2015-05-28 23:59:59\n",
       "cs150      2015-06-01 03:00:00\n",
       "hist205    2015-06-03 00:00:00\n",
       "hist206    2015-06-02 14:20:00\n",
       "hist207    2015-06-01 00:00:00\n",
       "dtype: timestamp[ns][pyarrow]"
      ]
     },
     "execution_count": 16,
     "metadata": {},
     "output_type": "execute_result"
    }
   ],
   "source": [
    "end_dates = (pd.Series([\n",
    "    '2015-05-28 23:59:59',\n",
    "    '2015-06-01 03:00:00',\n",
    "    '2015-06-03 00:00:00',\n",
    "    '2015-06-02 14:20:00',\n",
    "    '2015-06-01 00:00:00'],\n",
    "    dtype='timestamp[ns][pyarrow]',\n",
    "    index=classes))\n",
    "end_dates"
   ]
  },
  {
   "cell_type": "code",
   "execution_count": 17,
   "metadata": {},
   "outputs": [
    {
     "data": {
      "text/plain": [
       "cs106      81 days 23:59:59\n",
       "cs150      85 days 03:00:00\n",
       "hist205    86 days 00:00:00\n",
       "hist206    85 days 14:20:00\n",
       "hist207    82 days 00:00:00\n",
       "dtype: duration[ns][pyarrow]"
      ]
     },
     "execution_count": 17,
     "metadata": {},
     "output_type": "execute_result"
    }
   ],
   "source": [
    "duration = (end_dates - start_dates)\n",
    "duration"
   ]
  },
  {
   "cell_type": "code",
   "execution_count": 18,
   "metadata": {},
   "outputs": [
    {
     "data": {
      "text/plain": [
       "cs106     81 days 23:59:59\n",
       "cs150     85 days 03:00:00\n",
       "hist205   86 days 00:00:00\n",
       "hist206   85 days 14:20:00\n",
       "hist207   82 days 00:00:00\n",
       "dtype: timedelta64[ns]"
      ]
     },
     "execution_count": 18,
     "metadata": {},
     "output_type": "execute_result"
    }
   ],
   "source": [
    "duration.astype('timedelta64[ns]')"
   ]
  },
  {
   "cell_type": "code",
   "execution_count": 19,
   "metadata": {},
   "outputs": [
    {
     "data": {
      "text/plain": [
       "cs106      7084799.0\n",
       "cs150      7354800.0\n",
       "hist205    7430400.0\n",
       "hist206    7395600.0\n",
       "hist207    7084800.0\n",
       "dtype: float64"
      ]
     },
     "execution_count": 19,
     "metadata": {},
     "output_type": "execute_result"
    }
   ],
   "source": [
    "(duration\n",
    " .astype('timedelta64[ns]')\n",
    " .dt.total_seconds())"
   ]
  },
  {
   "cell_type": "code",
   "execution_count": 20,
   "metadata": {},
   "outputs": [
    {
     "data": {
      "text/plain": [
       "cs106      86399\n",
       "cs150      10800\n",
       "hist205        0\n",
       "hist206    51600\n",
       "hist207        0\n",
       "dtype: int32"
      ]
     },
     "execution_count": 20,
     "metadata": {},
     "output_type": "execute_result"
    }
   ],
   "source": [
    "(duration\n",
    " .astype('timedelta64[ns]')\n",
    " .dt.seconds)"
   ]
  },
  {
   "cell_type": "code",
   "execution_count": 21,
   "metadata": {},
   "outputs": [
    {
     "data": {
      "text/plain": [
       "cs106      81\n",
       "cs150      85\n",
       "hist205    86\n",
       "hist206    85\n",
       "hist207    82\n",
       "dtype: int64"
      ]
     },
     "execution_count": 21,
     "metadata": {},
     "output_type": "execute_result"
    }
   ],
   "source": [
    "(duration\n",
    " .astype('timedelta64[ns]')\n",
    " .dt.days)"
   ]
  },
  {
   "cell_type": "code",
   "execution_count": 22,
   "metadata": {},
   "outputs": [
    {
     "data": {
      "text/html": [
       "<div>\n",
       "<style scoped>\n",
       "    .dataframe tbody tr th:only-of-type {\n",
       "        vertical-align: middle;\n",
       "    }\n",
       "\n",
       "    .dataframe tbody tr th {\n",
       "        vertical-align: top;\n",
       "    }\n",
       "\n",
       "    .dataframe thead th {\n",
       "        text-align: right;\n",
       "    }\n",
       "</style>\n",
       "<table border=\"1\" class=\"dataframe\">\n",
       "  <thead>\n",
       "    <tr style=\"text-align: right;\">\n",
       "      <th></th>\n",
       "      <th>days</th>\n",
       "      <th>hours</th>\n",
       "      <th>minutes</th>\n",
       "      <th>seconds</th>\n",
       "      <th>milliseconds</th>\n",
       "      <th>microseconds</th>\n",
       "      <th>nanoseconds</th>\n",
       "    </tr>\n",
       "  </thead>\n",
       "  <tbody>\n",
       "    <tr>\n",
       "      <th>cs106</th>\n",
       "      <td>81</td>\n",
       "      <td>23</td>\n",
       "      <td>59</td>\n",
       "      <td>59</td>\n",
       "      <td>0</td>\n",
       "      <td>0</td>\n",
       "      <td>0</td>\n",
       "    </tr>\n",
       "    <tr>\n",
       "      <th>cs150</th>\n",
       "      <td>85</td>\n",
       "      <td>3</td>\n",
       "      <td>0</td>\n",
       "      <td>0</td>\n",
       "      <td>0</td>\n",
       "      <td>0</td>\n",
       "      <td>0</td>\n",
       "    </tr>\n",
       "    <tr>\n",
       "      <th>hist205</th>\n",
       "      <td>86</td>\n",
       "      <td>0</td>\n",
       "      <td>0</td>\n",
       "      <td>0</td>\n",
       "      <td>0</td>\n",
       "      <td>0</td>\n",
       "      <td>0</td>\n",
       "    </tr>\n",
       "    <tr>\n",
       "      <th>hist206</th>\n",
       "      <td>85</td>\n",
       "      <td>14</td>\n",
       "      <td>20</td>\n",
       "      <td>0</td>\n",
       "      <td>0</td>\n",
       "      <td>0</td>\n",
       "      <td>0</td>\n",
       "    </tr>\n",
       "    <tr>\n",
       "      <th>hist207</th>\n",
       "      <td>82</td>\n",
       "      <td>0</td>\n",
       "      <td>0</td>\n",
       "      <td>0</td>\n",
       "      <td>0</td>\n",
       "      <td>0</td>\n",
       "      <td>0</td>\n",
       "    </tr>\n",
       "  </tbody>\n",
       "</table>\n",
       "</div>"
      ],
      "text/plain": [
       "         days  hours  minutes  seconds  milliseconds  microseconds  \\\n",
       "cs106      81     23       59       59             0             0   \n",
       "cs150      85      3        0        0             0             0   \n",
       "hist205    86      0        0        0             0             0   \n",
       "hist206    85     14       20        0             0             0   \n",
       "hist207    82      0        0        0             0             0   \n",
       "\n",
       "         nanoseconds  \n",
       "cs106              0  \n",
       "cs150              0  \n",
       "hist205            0  \n",
       "hist206            0  \n",
       "hist207            0  "
      ]
     },
     "execution_count": 22,
     "metadata": {},
     "output_type": "execute_result"
    }
   ],
   "source": [
    "(duration\n",
    " .astype('timedelta64[ns]')\n",
    " .dt.components)"
   ]
  },
  {
   "cell_type": "markdown",
   "metadata": {},
   "source": [
    "## Chapter 15 - Dates in the Index"
   ]
  },
  {
   "cell_type": "code",
   "execution_count": 58,
   "metadata": {},
   "outputs": [],
   "source": [
    "import pandas as pd\n",
    "\n",
    "url = 'https://github.com/mattharrison/datasets/raw/master/data/alta-noaa-1980-2019.csv'\n",
    "alta_df = pd.read_csv(url, engine='pyarrow', dtype_backend='pyarrow')\n",
    "dates = pd.to_datetime(alta_df.DATE)"
   ]
  },
  {
   "cell_type": "code",
   "execution_count": 59,
   "metadata": {},
   "outputs": [
    {
     "data": {
      "text/html": [
       "<div>\n",
       "<style scoped>\n",
       "    .dataframe tbody tr th:only-of-type {\n",
       "        vertical-align: middle;\n",
       "    }\n",
       "\n",
       "    .dataframe tbody tr th {\n",
       "        vertical-align: top;\n",
       "    }\n",
       "\n",
       "    .dataframe thead th {\n",
       "        text-align: right;\n",
       "    }\n",
       "</style>\n",
       "<table border=\"1\" class=\"dataframe\">\n",
       "  <thead>\n",
       "    <tr style=\"text-align: right;\">\n",
       "      <th></th>\n",
       "      <th>STATION</th>\n",
       "      <th>NAME</th>\n",
       "      <th>LATITUDE</th>\n",
       "      <th>LONGITUDE</th>\n",
       "      <th>ELEVATION</th>\n",
       "      <th>DATE</th>\n",
       "      <th>DAPR</th>\n",
       "      <th>DASF</th>\n",
       "      <th>MDPR</th>\n",
       "      <th>MDSF</th>\n",
       "      <th>...</th>\n",
       "      <th>SNWD</th>\n",
       "      <th>TMAX</th>\n",
       "      <th>TMIN</th>\n",
       "      <th>TOBS</th>\n",
       "      <th>WT01</th>\n",
       "      <th>WT03</th>\n",
       "      <th>WT04</th>\n",
       "      <th>WT05</th>\n",
       "      <th>WT06</th>\n",
       "      <th>WT11</th>\n",
       "    </tr>\n",
       "  </thead>\n",
       "  <tbody>\n",
       "    <tr>\n",
       "      <th>0</th>\n",
       "      <td>USC00420072</td>\n",
       "      <td>ALTA, UT US</td>\n",
       "      <td>40.5905</td>\n",
       "      <td>-111.6369</td>\n",
       "      <td>2660.9</td>\n",
       "      <td>1980-01-01</td>\n",
       "      <td>&lt;NA&gt;</td>\n",
       "      <td>&lt;NA&gt;</td>\n",
       "      <td>&lt;NA&gt;</td>\n",
       "      <td>&lt;NA&gt;</td>\n",
       "      <td>...</td>\n",
       "      <td>29.0</td>\n",
       "      <td>38</td>\n",
       "      <td>25</td>\n",
       "      <td>25</td>\n",
       "      <td>&lt;NA&gt;</td>\n",
       "      <td>&lt;NA&gt;</td>\n",
       "      <td>&lt;NA&gt;</td>\n",
       "      <td>&lt;NA&gt;</td>\n",
       "      <td>&lt;NA&gt;</td>\n",
       "      <td>&lt;NA&gt;</td>\n",
       "    </tr>\n",
       "    <tr>\n",
       "      <th>1</th>\n",
       "      <td>USC00420072</td>\n",
       "      <td>ALTA, UT US</td>\n",
       "      <td>40.5905</td>\n",
       "      <td>-111.6369</td>\n",
       "      <td>2660.9</td>\n",
       "      <td>1980-01-02</td>\n",
       "      <td>&lt;NA&gt;</td>\n",
       "      <td>&lt;NA&gt;</td>\n",
       "      <td>&lt;NA&gt;</td>\n",
       "      <td>&lt;NA&gt;</td>\n",
       "      <td>...</td>\n",
       "      <td>34.0</td>\n",
       "      <td>27</td>\n",
       "      <td>18</td>\n",
       "      <td>18</td>\n",
       "      <td>&lt;NA&gt;</td>\n",
       "      <td>&lt;NA&gt;</td>\n",
       "      <td>&lt;NA&gt;</td>\n",
       "      <td>&lt;NA&gt;</td>\n",
       "      <td>&lt;NA&gt;</td>\n",
       "      <td>&lt;NA&gt;</td>\n",
       "    </tr>\n",
       "    <tr>\n",
       "      <th>2</th>\n",
       "      <td>USC00420072</td>\n",
       "      <td>ALTA, UT US</td>\n",
       "      <td>40.5905</td>\n",
       "      <td>-111.6369</td>\n",
       "      <td>2660.9</td>\n",
       "      <td>1980-01-03</td>\n",
       "      <td>&lt;NA&gt;</td>\n",
       "      <td>&lt;NA&gt;</td>\n",
       "      <td>&lt;NA&gt;</td>\n",
       "      <td>&lt;NA&gt;</td>\n",
       "      <td>...</td>\n",
       "      <td>30.0</td>\n",
       "      <td>27</td>\n",
       "      <td>12</td>\n",
       "      <td>18</td>\n",
       "      <td>&lt;NA&gt;</td>\n",
       "      <td>&lt;NA&gt;</td>\n",
       "      <td>&lt;NA&gt;</td>\n",
       "      <td>&lt;NA&gt;</td>\n",
       "      <td>&lt;NA&gt;</td>\n",
       "      <td>&lt;NA&gt;</td>\n",
       "    </tr>\n",
       "    <tr>\n",
       "      <th>3</th>\n",
       "      <td>USC00420072</td>\n",
       "      <td>ALTA, UT US</td>\n",
       "      <td>40.5905</td>\n",
       "      <td>-111.6369</td>\n",
       "      <td>2660.9</td>\n",
       "      <td>1980-01-04</td>\n",
       "      <td>&lt;NA&gt;</td>\n",
       "      <td>&lt;NA&gt;</td>\n",
       "      <td>&lt;NA&gt;</td>\n",
       "      <td>&lt;NA&gt;</td>\n",
       "      <td>...</td>\n",
       "      <td>30.0</td>\n",
       "      <td>31</td>\n",
       "      <td>18</td>\n",
       "      <td>27</td>\n",
       "      <td>&lt;NA&gt;</td>\n",
       "      <td>&lt;NA&gt;</td>\n",
       "      <td>&lt;NA&gt;</td>\n",
       "      <td>&lt;NA&gt;</td>\n",
       "      <td>&lt;NA&gt;</td>\n",
       "      <td>&lt;NA&gt;</td>\n",
       "    </tr>\n",
       "    <tr>\n",
       "      <th>4</th>\n",
       "      <td>USC00420072</td>\n",
       "      <td>ALTA, UT US</td>\n",
       "      <td>40.5905</td>\n",
       "      <td>-111.6369</td>\n",
       "      <td>2660.9</td>\n",
       "      <td>1980-01-05</td>\n",
       "      <td>&lt;NA&gt;</td>\n",
       "      <td>&lt;NA&gt;</td>\n",
       "      <td>&lt;NA&gt;</td>\n",
       "      <td>&lt;NA&gt;</td>\n",
       "      <td>...</td>\n",
       "      <td>30.0</td>\n",
       "      <td>34</td>\n",
       "      <td>26</td>\n",
       "      <td>34</td>\n",
       "      <td>&lt;NA&gt;</td>\n",
       "      <td>&lt;NA&gt;</td>\n",
       "      <td>&lt;NA&gt;</td>\n",
       "      <td>&lt;NA&gt;</td>\n",
       "      <td>&lt;NA&gt;</td>\n",
       "      <td>&lt;NA&gt;</td>\n",
       "    </tr>\n",
       "    <tr>\n",
       "      <th>...</th>\n",
       "      <td>...</td>\n",
       "      <td>...</td>\n",
       "      <td>...</td>\n",
       "      <td>...</td>\n",
       "      <td>...</td>\n",
       "      <td>...</td>\n",
       "      <td>...</td>\n",
       "      <td>...</td>\n",
       "      <td>...</td>\n",
       "      <td>...</td>\n",
       "      <td>...</td>\n",
       "      <td>...</td>\n",
       "      <td>...</td>\n",
       "      <td>...</td>\n",
       "      <td>...</td>\n",
       "      <td>...</td>\n",
       "      <td>...</td>\n",
       "      <td>...</td>\n",
       "      <td>...</td>\n",
       "      <td>...</td>\n",
       "      <td>...</td>\n",
       "    </tr>\n",
       "    <tr>\n",
       "      <th>14155</th>\n",
       "      <td>USC00420072</td>\n",
       "      <td>ALTA, UT US</td>\n",
       "      <td>40.5905</td>\n",
       "      <td>-111.6369</td>\n",
       "      <td>2660.9</td>\n",
       "      <td>2019-09-03</td>\n",
       "      <td>&lt;NA&gt;</td>\n",
       "      <td>&lt;NA&gt;</td>\n",
       "      <td>&lt;NA&gt;</td>\n",
       "      <td>&lt;NA&gt;</td>\n",
       "      <td>...</td>\n",
       "      <td>0.0</td>\n",
       "      <td>74</td>\n",
       "      <td>57</td>\n",
       "      <td>73</td>\n",
       "      <td>&lt;NA&gt;</td>\n",
       "      <td>&lt;NA&gt;</td>\n",
       "      <td>&lt;NA&gt;</td>\n",
       "      <td>&lt;NA&gt;</td>\n",
       "      <td>&lt;NA&gt;</td>\n",
       "      <td>&lt;NA&gt;</td>\n",
       "    </tr>\n",
       "    <tr>\n",
       "      <th>14156</th>\n",
       "      <td>USC00420072</td>\n",
       "      <td>ALTA, UT US</td>\n",
       "      <td>40.5905</td>\n",
       "      <td>-111.6369</td>\n",
       "      <td>2660.9</td>\n",
       "      <td>2019-09-04</td>\n",
       "      <td>&lt;NA&gt;</td>\n",
       "      <td>&lt;NA&gt;</td>\n",
       "      <td>&lt;NA&gt;</td>\n",
       "      <td>&lt;NA&gt;</td>\n",
       "      <td>...</td>\n",
       "      <td>0.0</td>\n",
       "      <td>77</td>\n",
       "      <td>52</td>\n",
       "      <td>74</td>\n",
       "      <td>&lt;NA&gt;</td>\n",
       "      <td>&lt;NA&gt;</td>\n",
       "      <td>&lt;NA&gt;</td>\n",
       "      <td>&lt;NA&gt;</td>\n",
       "      <td>&lt;NA&gt;</td>\n",
       "      <td>&lt;NA&gt;</td>\n",
       "    </tr>\n",
       "    <tr>\n",
       "      <th>14157</th>\n",
       "      <td>USC00420072</td>\n",
       "      <td>ALTA, UT US</td>\n",
       "      <td>40.5905</td>\n",
       "      <td>-111.6369</td>\n",
       "      <td>2660.9</td>\n",
       "      <td>2019-09-05</td>\n",
       "      <td>&lt;NA&gt;</td>\n",
       "      <td>&lt;NA&gt;</td>\n",
       "      <td>&lt;NA&gt;</td>\n",
       "      <td>&lt;NA&gt;</td>\n",
       "      <td>...</td>\n",
       "      <td>0.0</td>\n",
       "      <td>76</td>\n",
       "      <td>54</td>\n",
       "      <td>65</td>\n",
       "      <td>&lt;NA&gt;</td>\n",
       "      <td>&lt;NA&gt;</td>\n",
       "      <td>&lt;NA&gt;</td>\n",
       "      <td>&lt;NA&gt;</td>\n",
       "      <td>&lt;NA&gt;</td>\n",
       "      <td>&lt;NA&gt;</td>\n",
       "    </tr>\n",
       "    <tr>\n",
       "      <th>14158</th>\n",
       "      <td>USC00420072</td>\n",
       "      <td>ALTA, UT US</td>\n",
       "      <td>40.5905</td>\n",
       "      <td>-111.6369</td>\n",
       "      <td>2660.9</td>\n",
       "      <td>2019-09-06</td>\n",
       "      <td>&lt;NA&gt;</td>\n",
       "      <td>&lt;NA&gt;</td>\n",
       "      <td>&lt;NA&gt;</td>\n",
       "      <td>&lt;NA&gt;</td>\n",
       "      <td>...</td>\n",
       "      <td>0.0</td>\n",
       "      <td>66</td>\n",
       "      <td>52</td>\n",
       "      <td>60</td>\n",
       "      <td>&lt;NA&gt;</td>\n",
       "      <td>&lt;NA&gt;</td>\n",
       "      <td>&lt;NA&gt;</td>\n",
       "      <td>&lt;NA&gt;</td>\n",
       "      <td>&lt;NA&gt;</td>\n",
       "      <td>&lt;NA&gt;</td>\n",
       "    </tr>\n",
       "    <tr>\n",
       "      <th>14159</th>\n",
       "      <td>USC00420072</td>\n",
       "      <td>ALTA, UT US</td>\n",
       "      <td>40.5905</td>\n",
       "      <td>-111.6369</td>\n",
       "      <td>2660.9</td>\n",
       "      <td>2019-09-07</td>\n",
       "      <td>&lt;NA&gt;</td>\n",
       "      <td>&lt;NA&gt;</td>\n",
       "      <td>&lt;NA&gt;</td>\n",
       "      <td>&lt;NA&gt;</td>\n",
       "      <td>...</td>\n",
       "      <td>0.0</td>\n",
       "      <td>68</td>\n",
       "      <td>45</td>\n",
       "      <td>64</td>\n",
       "      <td>&lt;NA&gt;</td>\n",
       "      <td>&lt;NA&gt;</td>\n",
       "      <td>&lt;NA&gt;</td>\n",
       "      <td>&lt;NA&gt;</td>\n",
       "      <td>&lt;NA&gt;</td>\n",
       "      <td>&lt;NA&gt;</td>\n",
       "    </tr>\n",
       "  </tbody>\n",
       "</table>\n",
       "<p>14160 rows × 22 columns</p>\n",
       "</div>"
      ],
      "text/plain": [
       "           STATION         NAME  LATITUDE  LONGITUDE  ELEVATION        DATE  \\\n",
       "0      USC00420072  ALTA, UT US   40.5905  -111.6369     2660.9  1980-01-01   \n",
       "1      USC00420072  ALTA, UT US   40.5905  -111.6369     2660.9  1980-01-02   \n",
       "2      USC00420072  ALTA, UT US   40.5905  -111.6369     2660.9  1980-01-03   \n",
       "3      USC00420072  ALTA, UT US   40.5905  -111.6369     2660.9  1980-01-04   \n",
       "4      USC00420072  ALTA, UT US   40.5905  -111.6369     2660.9  1980-01-05   \n",
       "...            ...          ...       ...        ...        ...         ...   \n",
       "14155  USC00420072  ALTA, UT US   40.5905  -111.6369     2660.9  2019-09-03   \n",
       "14156  USC00420072  ALTA, UT US   40.5905  -111.6369     2660.9  2019-09-04   \n",
       "14157  USC00420072  ALTA, UT US   40.5905  -111.6369     2660.9  2019-09-05   \n",
       "14158  USC00420072  ALTA, UT US   40.5905  -111.6369     2660.9  2019-09-06   \n",
       "14159  USC00420072  ALTA, UT US   40.5905  -111.6369     2660.9  2019-09-07   \n",
       "\n",
       "       DAPR  DASF  MDPR  MDSF  ...  SNWD  TMAX  TMIN  TOBS  WT01  WT03  WT04  \\\n",
       "0      <NA>  <NA>  <NA>  <NA>  ...  29.0    38    25    25  <NA>  <NA>  <NA>   \n",
       "1      <NA>  <NA>  <NA>  <NA>  ...  34.0    27    18    18  <NA>  <NA>  <NA>   \n",
       "2      <NA>  <NA>  <NA>  <NA>  ...  30.0    27    12    18  <NA>  <NA>  <NA>   \n",
       "3      <NA>  <NA>  <NA>  <NA>  ...  30.0    31    18    27  <NA>  <NA>  <NA>   \n",
       "4      <NA>  <NA>  <NA>  <NA>  ...  30.0    34    26    34  <NA>  <NA>  <NA>   \n",
       "...     ...   ...   ...   ...  ...   ...   ...   ...   ...   ...   ...   ...   \n",
       "14155  <NA>  <NA>  <NA>  <NA>  ...   0.0    74    57    73  <NA>  <NA>  <NA>   \n",
       "14156  <NA>  <NA>  <NA>  <NA>  ...   0.0    77    52    74  <NA>  <NA>  <NA>   \n",
       "14157  <NA>  <NA>  <NA>  <NA>  ...   0.0    76    54    65  <NA>  <NA>  <NA>   \n",
       "14158  <NA>  <NA>  <NA>  <NA>  ...   0.0    66    52    60  <NA>  <NA>  <NA>   \n",
       "14159  <NA>  <NA>  <NA>  <NA>  ...   0.0    68    45    64  <NA>  <NA>  <NA>   \n",
       "\n",
       "       WT05  WT06  WT11  \n",
       "0      <NA>  <NA>  <NA>  \n",
       "1      <NA>  <NA>  <NA>  \n",
       "2      <NA>  <NA>  <NA>  \n",
       "3      <NA>  <NA>  <NA>  \n",
       "4      <NA>  <NA>  <NA>  \n",
       "...     ...   ...   ...  \n",
       "14155  <NA>  <NA>  <NA>  \n",
       "14156  <NA>  <NA>  <NA>  \n",
       "14157  <NA>  <NA>  <NA>  \n",
       "14158  <NA>  <NA>  <NA>  \n",
       "14159  <NA>  <NA>  <NA>  \n",
       "\n",
       "[14160 rows x 22 columns]"
      ]
     },
     "execution_count": 59,
     "metadata": {},
     "output_type": "execute_result"
    }
   ],
   "source": [
    "alta_df"
   ]
  },
  {
   "cell_type": "code",
   "execution_count": 61,
   "metadata": {},
   "outputs": [
    {
     "data": {
      "text/plain": [
       "0       1980-01-01\n",
       "1       1980-01-02\n",
       "2       1980-01-03\n",
       "3       1980-01-04\n",
       "4       1980-01-05\n",
       "           ...    \n",
       "14155   2019-09-03\n",
       "14156   2019-09-04\n",
       "14157   2019-09-05\n",
       "14158   2019-09-06\n",
       "14159   2019-09-07\n",
       "Name: DATE, Length: 14160, dtype: datetime64[ns]"
      ]
     },
     "execution_count": 61,
     "metadata": {},
     "output_type": "execute_result"
    }
   ],
   "source": [
    "dates"
   ]
  },
  {
   "cell_type": "code",
   "execution_count": 62,
   "metadata": {},
   "outputs": [
    {
     "data": {
      "text/plain": [
       "1980-01-01    2.0\n",
       "1980-01-02    3.0\n",
       "1980-01-03    1.0\n",
       "1980-01-04    0.0\n",
       "1980-01-05    0.0\n",
       "             ... \n",
       "2019-09-03    0.0\n",
       "2019-09-04    0.0\n",
       "2019-09-05    0.0\n",
       "2019-09-06    0.0\n",
       "2019-09-07    0.0\n",
       "Name: SNOW, Length: 14160, dtype: double[pyarrow]"
      ]
     },
     "execution_count": 62,
     "metadata": {},
     "output_type": "execute_result"
    }
   ],
   "source": [
    "snow = (alta_df\n",
    "        .SNOW\n",
    "        .rename(dates))\n",
    "snow"
   ]
  },
  {
   "cell_type": "code",
   "execution_count": 63,
   "metadata": {},
   "outputs": [
    {
     "data": {
      "text/plain": [
       "True"
      ]
     },
     "execution_count": 63,
     "metadata": {},
     "output_type": "execute_result"
    }
   ],
   "source": [
    "snow.isna().any()"
   ]
  },
  {
   "cell_type": "code",
   "execution_count": 64,
   "metadata": {},
   "outputs": [
    {
     "data": {
      "text/plain": [
       "1985-07-30    <NA>\n",
       "1985-09-12    <NA>\n",
       "1985-09-19    <NA>\n",
       "1986-02-07    <NA>\n",
       "1986-06-26    <NA>\n",
       "              ... \n",
       "2017-04-26    <NA>\n",
       "2017-09-20    <NA>\n",
       "2017-10-02    <NA>\n",
       "2017-12-23    <NA>\n",
       "2018-12-03    <NA>\n",
       "Name: SNOW, Length: 365, dtype: double[pyarrow]"
      ]
     },
     "execution_count": 64,
     "metadata": {},
     "output_type": "execute_result"
    }
   ],
   "source": [
    "snow[snow.isna()]"
   ]
  },
  {
   "cell_type": "code",
   "execution_count": 65,
   "metadata": {},
   "outputs": [
    {
     "data": {
      "text/plain": [
       "1985-09-01     0.0\n",
       "1985-09-02     0.0\n",
       "1985-09-03     0.0\n",
       "1985-09-04     0.0\n",
       "1985-09-05     0.0\n",
       "1985-09-06     0.0\n",
       "1985-09-07     0.0\n",
       "1985-09-08     0.0\n",
       "1985-09-09     0.0\n",
       "1985-09-10     0.0\n",
       "1985-09-11     0.0\n",
       "1985-09-12    <NA>\n",
       "1985-09-13     0.0\n",
       "1985-09-14     0.0\n",
       "1985-09-15     0.0\n",
       "1985-09-16     0.0\n",
       "1985-09-17     0.0\n",
       "1985-09-18     0.0\n",
       "1985-09-19    <NA>\n",
       "1985-09-20     0.0\n",
       "Name: SNOW, dtype: double[pyarrow]"
      ]
     },
     "execution_count": 65,
     "metadata": {},
     "output_type": "execute_result"
    }
   ],
   "source": [
    "snow.loc['1985-09':'1985-09-20']"
   ]
  },
  {
   "cell_type": "code",
   "execution_count": 70,
   "metadata": {},
   "outputs": [
    {
     "data": {
      "text/plain": [
       "1985-09-01    0.0\n",
       "1985-09-02    0.0\n",
       "1985-09-03    0.0\n",
       "1985-09-04    0.0\n",
       "1985-09-05    0.0\n",
       "1985-09-06    0.0\n",
       "1985-09-07    0.0\n",
       "1985-09-08    0.0\n",
       "1985-09-09    0.0\n",
       "1985-09-10    0.0\n",
       "1985-09-11    0.0\n",
       "1985-09-12    0.0\n",
       "1985-09-13    0.0\n",
       "1985-09-14    0.0\n",
       "1985-09-15    0.0\n",
       "1985-09-16    0.0\n",
       "1985-09-17    0.0\n",
       "1985-09-18    0.0\n",
       "1985-09-19    0.0\n",
       "1985-09-20    0.0\n",
       "Name: SNOW, dtype: double[pyarrow]"
      ]
     },
     "execution_count": 70,
     "metadata": {},
     "output_type": "execute_result"
    }
   ],
   "source": [
    "(snow\n",
    " .loc['1985-09':'1985-09-20']\n",
    " .fillna(0))"
   ]
  },
  {
   "cell_type": "code",
   "execution_count": 54,
   "metadata": {},
   "outputs": [
    {
     "data": {
      "text/plain": [
       "1987-12-30     6.0\n",
       "1987-12-31     5.0\n",
       "1988-01-01    <NA>\n",
       "1988-01-02     0.0\n",
       "1988-01-03     0.0\n",
       "1988-01-04    <NA>\n",
       "1988-01-05     2.0\n",
       "1988-01-06     6.0\n",
       "1988-01-07     4.0\n",
       "1988-01-08     9.0\n",
       "1988-01-09     5.0\n",
       "1988-01-10     2.0\n",
       "Name: SNOW, dtype: double[pyarrow]"
      ]
     },
     "execution_count": 54,
     "metadata": {},
     "output_type": "execute_result"
    }
   ],
   "source": [
    "snow.loc['1987-12-30':'1988-01-10']"
   ]
  },
  {
   "cell_type": "code",
   "execution_count": 55,
   "metadata": {},
   "outputs": [
    {
     "data": {
      "text/plain": [
       "1987-12-30    6.0\n",
       "1987-12-31    5.0\n",
       "1988-01-01    5.0\n",
       "1988-01-02    0.0\n",
       "1988-01-03    0.0\n",
       "1988-01-04    0.0\n",
       "1988-01-05    2.0\n",
       "1988-01-06    6.0\n",
       "1988-01-07    4.0\n",
       "1988-01-08    9.0\n",
       "1988-01-09    5.0\n",
       "1988-01-10    2.0\n",
       "Name: SNOW, dtype: double[pyarrow]"
      ]
     },
     "execution_count": 55,
     "metadata": {},
     "output_type": "execute_result"
    }
   ],
   "source": [
    "(snow\n",
    " .loc['1987-12-30':'1988-01-10']\n",
    " .ffill())"
   ]
  },
  {
   "cell_type": "code",
   "execution_count": 56,
   "metadata": {},
   "outputs": [
    {
     "data": {
      "text/plain": [
       "1987-12-30    6.0\n",
       "1987-12-31    5.0\n",
       "1988-01-01    0.0\n",
       "1988-01-02    0.0\n",
       "1988-01-03    0.0\n",
       "1988-01-04    2.0\n",
       "1988-01-05    2.0\n",
       "1988-01-06    6.0\n",
       "1988-01-07    4.0\n",
       "1988-01-08    9.0\n",
       "1988-01-09    5.0\n",
       "1988-01-10    2.0\n",
       "Name: SNOW, dtype: double[pyarrow]"
      ]
     },
     "execution_count": 56,
     "metadata": {},
     "output_type": "execute_result"
    }
   ],
   "source": [
    "(snow\n",
    " .loc['1987-12-30':'1988-01-10']\n",
    " .bfill())"
   ]
  },
  {
   "cell_type": "code",
   "execution_count": 57,
   "metadata": {},
   "outputs": [
    {
     "data": {
      "text/plain": [
       "1987-12-30    6.0\n",
       "1987-12-31    5.0\n",
       "1988-01-01    2.5\n",
       "1988-01-02    0.0\n",
       "1988-01-03    0.0\n",
       "1988-01-04    1.0\n",
       "1988-01-05    2.0\n",
       "1988-01-06    6.0\n",
       "1988-01-07    4.0\n",
       "1988-01-08    9.0\n",
       "1988-01-09    5.0\n",
       "1988-01-10    2.0\n",
       "Name: SNOW, dtype: double[pyarrow]"
      ]
     },
     "execution_count": 57,
     "metadata": {},
     "output_type": "execute_result"
    }
   ],
   "source": [
    "(snow\n",
    " .loc['1987-12-30':'1988-01-10']\n",
    " .interpolate())"
   ]
  },
  {
   "cell_type": "code",
   "execution_count": 17,
   "metadata": {},
   "outputs": [
    {
     "data": {
      "text/plain": [
       "DatetimeIndex(['1980-01-01', '1980-01-02', '1980-01-03', '1980-01-04',\n",
       "               '1980-01-05', '1980-01-06', '1980-01-07', '1980-01-08',\n",
       "               '1980-01-09', '1980-01-10',\n",
       "               ...\n",
       "               '2019-08-29', '2019-08-30', '2019-08-31', '2019-09-01',\n",
       "               '2019-09-02', '2019-09-03', '2019-09-04', '2019-09-05',\n",
       "               '2019-09-06', '2019-09-07'],\n",
       "              dtype='datetime64[ns]', length=14160, freq=None)"
      ]
     },
     "execution_count": 17,
     "metadata": {},
     "output_type": "execute_result"
    }
   ],
   "source": [
    "snow.index"
   ]
  },
  {
   "cell_type": "code",
   "execution_count": 19,
   "metadata": {},
   "outputs": [
    {
     "data": {
      "text/plain": [
       "1980-01-01    2.0\n",
       "1980-01-02    3.0\n",
       "1980-01-03    1.0\n",
       "1980-01-04    0.0\n",
       "1980-01-05    0.0\n",
       "             ... \n",
       "2019-09-03    0.0\n",
       "2019-09-04    0.0\n",
       "2019-09-05    0.0\n",
       "2019-09-06    0.0\n",
       "2019-09-07    0.0\n",
       "Name: SNOW, Length: 14160, dtype: double[pyarrow]"
      ]
     },
     "execution_count": 19,
     "metadata": {},
     "output_type": "execute_result"
    }
   ],
   "source": [
    "winter = (snow.index.quarter == 1) | (snow.index.quarter == 4)\n",
    "(snow\n",
    " .case_when([(winter & snow.isna(), snow.interpolate()),\n",
    "            (~winter & snow.isna(), 0)]))"
   ]
  },
  {
   "cell_type": "code",
   "execution_count": 20,
   "metadata": {},
   "outputs": [
    {
     "data": {
      "text/plain": [
       "1985-09-19    <NA>\n",
       "1988-01-01    <NA>\n",
       "Name: SNOW, dtype: double[pyarrow]"
      ]
     },
     "execution_count": 20,
     "metadata": {},
     "output_type": "execute_result"
    }
   ],
   "source": [
    "snow.loc[['1985-09-19', '1988-01-01']]"
   ]
  },
  {
   "cell_type": "code",
   "execution_count": 21,
   "metadata": {},
   "outputs": [
    {
     "data": {
      "text/plain": [
       "1985-09-19    0.0\n",
       "1988-01-01    2.5\n",
       "Name: SNOW, dtype: double[pyarrow]"
      ]
     },
     "execution_count": 21,
     "metadata": {},
     "output_type": "execute_result"
    }
   ],
   "source": [
    "(snow\n",
    " .case_when([(winter & snow.isna(), snow.interpolate()),\n",
    "            (~winter & snow.isna(), 0)])\n",
    " .loc[['1985-09-19', '1988-01-01']])"
   ]
  },
  {
   "cell_type": "code",
   "execution_count": 23,
   "metadata": {},
   "outputs": [
    {
     "data": {
      "text/plain": [
       "1980-01-01    <NA>\n",
       "1980-01-02    <NA>\n",
       "1980-01-03    <NA>\n",
       "1980-01-04    <NA>\n",
       "1980-01-05     1.2\n",
       "              ... \n",
       "2019-09-03     0.0\n",
       "2019-09-04     0.0\n",
       "2019-09-05     0.0\n",
       "2019-09-06     0.0\n",
       "2019-09-07     0.0\n",
       "Name: SNOW, Length: 14160, dtype: double[pyarrow]"
      ]
     },
     "execution_count": 23,
     "metadata": {},
     "output_type": "execute_result"
    }
   ],
   "source": [
    "# create five day rolling average\n",
    "(snow\n",
    " .add(snow.shift(1))\n",
    " .add(snow.shift(2))\n",
    " .add(snow.shift(3))\n",
    " .add(snow.shift(4))\n",
    " .div(5))"
   ]
  },
  {
   "cell_type": "code",
   "execution_count": 25,
   "metadata": {},
   "outputs": [
    {
     "data": {
      "text/plain": [
       "1980-01-01    NaN\n",
       "1980-01-02    NaN\n",
       "1980-01-03    NaN\n",
       "1980-01-04    NaN\n",
       "1980-01-05    1.2\n",
       "             ... \n",
       "2019-09-03    0.0\n",
       "2019-09-04    0.0\n",
       "2019-09-05    0.0\n",
       "2019-09-06    0.0\n",
       "2019-09-07    0.0\n",
       "Name: SNOW, Length: 14160, dtype: float64"
      ]
     },
     "execution_count": 25,
     "metadata": {},
     "output_type": "execute_result"
    }
   ],
   "source": [
    "# create five day rolling average using .rolling\n",
    "(snow\n",
    " .rolling(5)\n",
    " .mean())"
   ]
  },
  {
   "cell_type": "code",
   "execution_count": 26,
   "metadata": {},
   "outputs": [
    {
     "data": {
      "text/plain": [
       "1980-01-31    20.0\n",
       "1980-02-29    25.0\n",
       "1980-03-31    16.0\n",
       "1980-04-30    10.0\n",
       "1980-05-31     9.0\n",
       "              ... \n",
       "2019-05-31     5.1\n",
       "2019-06-30     0.0\n",
       "2019-07-31     0.0\n",
       "2019-08-31     0.0\n",
       "2019-09-30     0.0\n",
       "Freq: ME, Name: SNOW, Length: 477, dtype: double[pyarrow]"
      ]
     },
     "execution_count": 26,
     "metadata": {},
     "output_type": "execute_result"
    }
   ],
   "source": [
    "(\n",
    "    snow\n",
    "    .resample('ME')\n",
    "    .max()\n",
    ")"
   ]
  },
  {
   "cell_type": "code",
   "execution_count": 28,
   "metadata": {},
   "outputs": [
    {
     "data": {
      "text/plain": [
       "1980-01-31    20.0\n",
       "1980-03-31    25.0\n",
       "1980-05-31    10.0\n",
       "1980-07-31     1.0\n",
       "1980-09-30     0.0\n",
       "              ... \n",
       "2019-01-31    19.0\n",
       "2019-03-31    20.7\n",
       "2019-05-31    18.0\n",
       "2019-07-31     0.0\n",
       "2019-09-30     0.0\n",
       "Freq: 2ME, Name: SNOW, Length: 239, dtype: double[pyarrow]"
      ]
     },
     "execution_count": 28,
     "metadata": {},
     "output_type": "execute_result"
    }
   ],
   "source": [
    "(snow\n",
    " .resample('2ME')\n",
    " .max()\n",
    ")"
   ]
  },
  {
   "cell_type": "code",
   "execution_count": 29,
   "metadata": {},
   "outputs": [
    {
     "data": {
      "text/plain": [
       "1980-05-31    25.0\n",
       "1981-05-31    26.0\n",
       "1982-05-31    34.0\n",
       "1983-05-31    38.0\n",
       "1984-05-31    25.0\n",
       "1985-05-31    22.0\n",
       "1986-05-31    34.0\n",
       "1987-05-31    16.0\n",
       "1988-05-31    23.0\n",
       "1989-05-31    30.0\n",
       "1990-05-31    32.0\n",
       "1991-05-31    28.0\n",
       "1992-05-31    22.0\n",
       "1993-05-31    30.0\n",
       "1994-05-31    36.0\n",
       "1995-05-31    25.0\n",
       "1996-05-31    34.0\n",
       "1997-05-31    22.0\n",
       "1998-05-31    29.0\n",
       "1999-05-31    26.0\n",
       "2000-05-31    23.0\n",
       "2001-05-31    19.0\n",
       "2002-05-31    28.0\n",
       "2003-05-31    14.0\n",
       "2004-05-31    24.0\n",
       "2005-05-31    31.0\n",
       "2006-05-31    27.0\n",
       "2007-05-31    15.0\n",
       "2008-05-31    21.0\n",
       "2009-05-31    23.0\n",
       "2010-05-31    32.0\n",
       "2011-05-31    22.0\n",
       "2012-05-31    18.0\n",
       "2013-05-31    19.0\n",
       "2014-05-31    11.0\n",
       "2015-05-31    25.0\n",
       "2016-05-31    15.0\n",
       "2017-05-31    26.0\n",
       "2018-05-31    21.8\n",
       "2019-05-31    20.7\n",
       "2020-05-31     0.0\n",
       "Freq: YE-MAY, Name: SNOW, dtype: double[pyarrow]"
      ]
     },
     "execution_count": 29,
     "metadata": {},
     "output_type": "execute_result"
    }
   ],
   "source": [
    "(snow\n",
    " .resample('YE-MAY')\n",
    " .max())"
   ]
  },
  {
   "cell_type": "code",
   "execution_count": 122,
   "metadata": {},
   "outputs": [
    {
     "data": {
      "text/plain": [
       "1980-01-01    0.527009\n",
       "1980-01-02    0.790514\n",
       "1980-01-03    0.263505\n",
       "1980-01-04         0.0\n",
       "1980-01-05         0.0\n",
       "                ...   \n",
       "2019-09-03         NaN\n",
       "2019-09-04         NaN\n",
       "2019-09-05         NaN\n",
       "2019-09-06         NaN\n",
       "2019-09-07         NaN\n",
       "Name: SNOW, Length: 14160, dtype: double[pyarrow]"
      ]
     },
     "execution_count": 122,
     "metadata": {},
     "output_type": "execute_result"
    }
   ],
   "source": [
    "import numpy as np\n",
    "\n",
    "test = (snow\n",
    " .div(snow\n",
    "      .resample('QE')\n",
    "      .transform('sum'))\n",
    " .mul(100)\n",
    " .fillna(0)\n",
    "\n",
    " # three equivalent ways to handle NaN\n",
    "#  .mask(lambda s: np.isnan(s), 0)\n",
    "#  .where(lambda s: ~np.isnan(s), 0)\n",
    "#  .case_when([(lambda s: np.isnan(s), 0)])\n",
    " \n",
    ")\n",
    "\n",
    "test"
   ]
  },
  {
   "cell_type": "code",
   "execution_count": 123,
   "metadata": {},
   "outputs": [
    {
     "data": {
      "text/plain": [
       "2016-10-01    0.0\n",
       "2016-10-02    0.0\n",
       "2016-10-03    4.9\n",
       "2016-10-04    0.0\n",
       "2016-10-05    0.6\n",
       "             ... \n",
       "2017-05-27    0.0\n",
       "2017-05-28    0.0\n",
       "2017-05-29    0.0\n",
       "2017-05-30    0.0\n",
       "2017-05-31    0.0\n",
       "Name: SNOW, Length: 243, dtype: double[pyarrow]"
      ]
     },
     "execution_count": 123,
     "metadata": {},
     "output_type": "execute_result"
    }
   ],
   "source": [
    "season2017 = snow.loc['2016-10':'2017-05']\n",
    "season2017"
   ]
  },
  {
   "cell_type": "code",
   "execution_count": 126,
   "metadata": {},
   "outputs": [
    {
     "data": {
      "text/plain": [
       "2016-10-31     2.153969\n",
       "2016-11-30     9.772637\n",
       "2016-12-31    15.715995\n",
       "2017-01-31    25.468688\n",
       "2017-02-28    21.041085\n",
       "2017-03-31     9.274033\n",
       "2017-04-30    14.738732\n",
       "2017-05-31     1.834862\n",
       "Freq: ME, Name: SNOW, dtype: double[pyarrow]"
      ]
     },
     "execution_count": 126,
     "metadata": {},
     "output_type": "execute_result"
    }
   ],
   "source": [
    "(season2017\n",
    " .resample('ME')\n",
    " .sum()\n",
    " .div(season2017.sum())\n",
    " .mul(100))"
   ]
  },
  {
   "cell_type": "code",
   "execution_count": 140,
   "metadata": {},
   "outputs": [
    {
     "data": {
      "text/plain": [
       "1980    457.5\n",
       "1981    503.0\n",
       "1982    842.5\n",
       "1983    807.5\n",
       "1984    816.0\n",
       "1985    536.0\n",
       "1986    740.8\n",
       "1987    243.1\n",
       "1988    314.5\n",
       "1989    429.5\n",
       "1990    331.5\n",
       "1991    504.7\n",
       "1992    340.8\n",
       "1993    683.5\n",
       "1994    321.0\n",
       "1995    645.0\n",
       "1996    525.5\n",
       "1997    563.6\n",
       "1998    579.6\n",
       "1999    435.7\n",
       "2000    453.0\n",
       "2001    468.0\n",
       "2002    457.8\n",
       "2003    365.4\n",
       "2004    514.0\n",
       "2005    472.0\n",
       "2006    594.6\n",
       "2007    319.7\n",
       "2008    606.0\n",
       "2009    476.8\n",
       "2010    391.0\n",
       "2011    533.8\n",
       "2012    293.5\n",
       "2013    362.8\n",
       "2014    358.7\n",
       "2015    284.3\n",
       "2016    354.6\n",
       "2017    524.0\n",
       "2018    308.8\n",
       "2019    504.5\n",
       "Name: SNOW, dtype: double[pyarrow]"
      ]
     },
     "execution_count": 140,
     "metadata": {},
     "output_type": "execute_result"
    }
   ],
   "source": [
    "def season(idx):\n",
    "    year = idx.year\n",
    "    month = idx.month\n",
    "    if month < 10:\n",
    "        return year\n",
    "    else:\n",
    "        return year + 1\n",
    "\n",
    "(snow\n",
    " .groupby(season)\n",
    " .sum())"
   ]
  },
  {
   "cell_type": "code",
   "execution_count": 141,
   "metadata": {},
   "outputs": [
    {
     "data": {
      "text/plain": [
       "1980  1980-01-31     31.47541\n",
       "      1980-02-29    24.590164\n",
       "      1980-03-31    26.885246\n",
       "      1980-04-30     6.557377\n",
       "      1980-05-31    10.273224\n",
       "                      ...    \n",
       "2019  2019-05-31     5.153617\n",
       "      2019-06-30          0.0\n",
       "      2019-07-31          0.0\n",
       "      2019-08-31          0.0\n",
       "      2019-09-30          0.0\n",
       "Name: SNOW, Length: 477, dtype: double[pyarrow]"
      ]
     },
     "execution_count": 141,
     "metadata": {},
     "output_type": "execute_result"
    }
   ],
   "source": [
    "def calc_pct(s):\n",
    "    return s.div(s.sum()).mul(100)\n",
    "\n",
    "(snow\n",
    " .resample('ME')\n",
    " .sum()\n",
    " .groupby(season)\n",
    " .apply(calc_pct))"
   ]
  },
  {
   "cell_type": "code",
   "execution_count": 142,
   "metadata": {},
   "outputs": [
    {
     "data": {
      "text/plain": [
       "1980-09-30    457.5\n",
       "1981-09-30    503.0\n",
       "1982-09-30    842.5\n",
       "1983-09-30    807.5\n",
       "1984-09-30    816.0\n",
       "1985-09-30    536.0\n",
       "1986-09-30    740.8\n",
       "1987-09-30    243.1\n",
       "1988-09-30    314.5\n",
       "1989-09-30    429.5\n",
       "1990-09-30    331.5\n",
       "1991-09-30    504.7\n",
       "1992-09-30    340.8\n",
       "1993-09-30    683.5\n",
       "1994-09-30    321.0\n",
       "1995-09-30    645.0\n",
       "1996-09-30    525.5\n",
       "1997-09-30    563.6\n",
       "1998-09-30    579.6\n",
       "1999-09-30    435.7\n",
       "2000-09-30    453.0\n",
       "2001-09-30    468.0\n",
       "2002-09-30    457.8\n",
       "2003-09-30    365.4\n",
       "2004-09-30    514.0\n",
       "2005-09-30    472.0\n",
       "2006-09-30    594.6\n",
       "2007-09-30    319.7\n",
       "2008-09-30    606.0\n",
       "2009-09-30    476.8\n",
       "2010-09-30    391.0\n",
       "2011-09-30    533.8\n",
       "2012-09-30    293.5\n",
       "2013-09-30    362.8\n",
       "2014-09-30    358.7\n",
       "2015-09-30    284.3\n",
       "2016-09-30    354.6\n",
       "2017-09-30    524.0\n",
       "2018-09-30    308.8\n",
       "2019-09-30    504.5\n",
       "Freq: YE-SEP, Name: SNOW, dtype: double[pyarrow]"
      ]
     },
     "execution_count": 142,
     "metadata": {},
     "output_type": "execute_result"
    }
   ],
   "source": [
    "(snow\n",
    " .resample('YE-SEP')\n",
    " .sum())"
   ]
  },
  {
   "cell_type": "code",
   "execution_count": 143,
   "metadata": {},
   "outputs": [
    {
     "data": {
      "text/plain": [
       "2016-10-01      0.0\n",
       "2016-10-02      0.0\n",
       "2016-10-03      4.9\n",
       "2016-10-04      4.9\n",
       "2016-10-05      5.5\n",
       "              ...  \n",
       "2017-09-26    524.0\n",
       "2017-09-27    524.0\n",
       "2017-09-28    524.0\n",
       "2017-09-29    524.0\n",
       "2017-09-30    524.0\n",
       "Name: SNOW, Length: 364, dtype: double[pyarrow]"
      ]
     },
     "execution_count": 143,
     "metadata": {},
     "output_type": "execute_result"
    }
   ],
   "source": [
    "(snow\n",
    " .loc['2016-10':'2017-09']\n",
    " .cumsum())"
   ]
  },
  {
   "cell_type": "code",
   "execution_count": 145,
   "metadata": {},
   "outputs": [
    {
     "data": {
      "text/plain": [
       "1980-01-01      2.0\n",
       "1980-01-02      5.0\n",
       "1980-01-03      6.0\n",
       "1980-01-04      6.0\n",
       "1980-01-05      6.0\n",
       "              ...  \n",
       "2019-09-03    504.5\n",
       "2019-09-04    504.5\n",
       "2019-09-05    504.5\n",
       "2019-09-06    504.5\n",
       "2019-09-07    504.5\n",
       "Name: SNOW, Length: 14160, dtype: double[pyarrow]"
      ]
     },
     "execution_count": 145,
     "metadata": {},
     "output_type": "execute_result"
    }
   ],
   "source": [
    "(snow\n",
    " .resample('YE-SEP')\n",
    " .transform('cumsum'))"
   ]
  },
  {
   "cell_type": "code",
   "execution_count": null,
   "metadata": {},
   "outputs": [],
   "source": []
  }
 ],
 "metadata": {
  "kernelspec": {
   "display_name": "m5",
   "language": "python",
   "name": "python3"
  },
  "language_info": {
   "codemirror_mode": {
    "name": "ipython",
    "version": 3
   },
   "file_extension": ".py",
   "mimetype": "text/x-python",
   "name": "python",
   "nbconvert_exporter": "python",
   "pygments_lexer": "ipython3",
   "version": "3.12.2"
  }
 },
 "nbformat": 4,
 "nbformat_minor": 2
}
